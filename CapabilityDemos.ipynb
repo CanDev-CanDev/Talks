{
 "cells": [
  {
   "cell_type": "markdown",
   "metadata": {
    "nbpresent": {
     "id": "184f26db-825c-4999-812d-a0a3093d940e"
    },
    "slideshow": {
     "slide_type": "-"
    }
   },
   "source": [
    "# <center> Jupyter Notebooks in Action </center>"
   ]
  },
  {
   "cell_type": "markdown",
   "metadata": {
    "nbpresent": {
     "id": "f4eed675-7422-4445-b247-f5f377cfe357"
    },
    "slideshow": {
     "slide_type": "-"
    },
    "toc": "true"
   },
   "source": [
    "# Table of Contents\n",
    " <p><div class=\"lev2 toc-item\"><a href=\"#Standard-capabilities\" data-toc-modified-id=\"Standard-capabilities-01\"><span class=\"toc-item-num\">0.1&nbsp;&nbsp;</span>Standard capabilities</a></div><div class=\"lev2 toc-item\"><a href=\"#Fancy-stuff\" data-toc-modified-id=\"Fancy-stuff-02\"><span class=\"toc-item-num\">0.2&nbsp;&nbsp;</span>Fancy stuff</a></div><div class=\"lev3 toc-item\"><a href=\"#Presentations\" data-toc-modified-id=\"Presentations-021\"><span class=\"toc-item-num\">0.2.1&nbsp;&nbsp;</span>Presentations</a></div><div class=\"lev2 toc-item\"><a href=\"#Reading-from-other-Jupyter-notebooks\" data-toc-modified-id=\"Reading-from-other-Jupyter-notebooks-03\"><span class=\"toc-item-num\">0.3&nbsp;&nbsp;</span>Reading from other Jupyter notebooks</a></div><div class=\"lev2 toc-item\"><a href=\"#Converting-to-other-formats\" data-toc-modified-id=\"Converting-to-other-formats-04\"><span class=\"toc-item-num\">0.4&nbsp;&nbsp;</span>Converting to other formats</a></div><div class=\"lev2 toc-item\"><a href=\"#Adding-other-content\" data-toc-modified-id=\"Adding-other-content-05\"><span class=\"toc-item-num\">0.5&nbsp;&nbsp;</span>Adding other content</a></div>"
   ]
  },
  {
   "cell_type": "markdown",
   "metadata": {
    "nbpresent": {
     "id": "cb56ab0c-8f1d-4826-bce5-3c1690a9848a"
    },
    "slideshow": {
     "slide_type": "slide"
    }
   },
   "source": [
    "## Standard capabilities"
   ]
  },
  {
   "cell_type": "markdown",
   "metadata": {
    "nbpresent": {
     "id": "9137455d-c99d-4bfc-a84d-af6f8324c8d2"
    }
   },
   "source": [
    "### Plotting"
   ]
  },
  {
   "cell_type": "markdown",
   "metadata": {
    "nbpresent": {
     "id": "08f3d8c6-0c0a-42d9-b1fb-33b8e8188bf1"
    }
   },
   "source": [
    "* Supports standard plotting capabilities of Python\n",
    "* Supports different backends such as the interactive nbagb backend"
   ]
  },
  {
   "cell_type": "code",
   "execution_count": 2,
   "metadata": {
    "collapsed": true
   },
   "outputs": [],
   "source": [
    "import matplotlib.pyplot as plt\n",
    "%matplotlib nbagg"
   ]
  },
  {
   "cell_type": "code",
   "execution_count": 3,
   "metadata": {
    "nbpresent": {
     "id": "db47c4ab-e0a1-45e3-8270-c624511e651a"
    },
    "slideshow": {
     "slide_type": "-"
    }
   },
   "outputs": [
    {
     "data": {
      "application/javascript": [
       "/* Put everything inside the global mpl namespace */\n",
       "window.mpl = {};\n",
       "\n",
       "\n",
       "mpl.get_websocket_type = function() {\n",
       "    if (typeof(WebSocket) !== 'undefined') {\n",
       "        return WebSocket;\n",
       "    } else if (typeof(MozWebSocket) !== 'undefined') {\n",
       "        return MozWebSocket;\n",
       "    } else {\n",
       "        alert('Your browser does not have WebSocket support.' +\n",
       "              'Please try Chrome, Safari or Firefox ≥ 6. ' +\n",
       "              'Firefox 4 and 5 are also supported but you ' +\n",
       "              'have to enable WebSockets in about:config.');\n",
       "    };\n",
       "}\n",
       "\n",
       "mpl.figure = function(figure_id, websocket, ondownload, parent_element) {\n",
       "    this.id = figure_id;\n",
       "\n",
       "    this.ws = websocket;\n",
       "\n",
       "    this.supports_binary = (this.ws.binaryType != undefined);\n",
       "\n",
       "    if (!this.supports_binary) {\n",
       "        var warnings = document.getElementById(\"mpl-warnings\");\n",
       "        if (warnings) {\n",
       "            warnings.style.display = 'block';\n",
       "            warnings.textContent = (\n",
       "                \"This browser does not support binary websocket messages. \" +\n",
       "                    \"Performance may be slow.\");\n",
       "        }\n",
       "    }\n",
       "\n",
       "    this.imageObj = new Image();\n",
       "\n",
       "    this.context = undefined;\n",
       "    this.message = undefined;\n",
       "    this.canvas = undefined;\n",
       "    this.rubberband_canvas = undefined;\n",
       "    this.rubberband_context = undefined;\n",
       "    this.format_dropdown = undefined;\n",
       "\n",
       "    this.image_mode = 'full';\n",
       "\n",
       "    this.root = $('<div/>');\n",
       "    this._root_extra_style(this.root)\n",
       "    this.root.attr('style', 'display: inline-block');\n",
       "\n",
       "    $(parent_element).append(this.root);\n",
       "\n",
       "    this._init_header(this);\n",
       "    this._init_canvas(this);\n",
       "    this._init_toolbar(this);\n",
       "\n",
       "    var fig = this;\n",
       "\n",
       "    this.waiting = false;\n",
       "\n",
       "    this.ws.onopen =  function () {\n",
       "            fig.send_message(\"supports_binary\", {value: fig.supports_binary});\n",
       "            fig.send_message(\"send_image_mode\", {});\n",
       "            if (mpl.ratio != 1) {\n",
       "                fig.send_message(\"set_dpi_ratio\", {'dpi_ratio': mpl.ratio});\n",
       "            }\n",
       "            fig.send_message(\"refresh\", {});\n",
       "        }\n",
       "\n",
       "    this.imageObj.onload = function() {\n",
       "            if (fig.image_mode == 'full') {\n",
       "                // Full images could contain transparency (where diff images\n",
       "                // almost always do), so we need to clear the canvas so that\n",
       "                // there is no ghosting.\n",
       "                fig.context.clearRect(0, 0, fig.canvas.width, fig.canvas.height);\n",
       "            }\n",
       "            fig.context.drawImage(fig.imageObj, 0, 0);\n",
       "        };\n",
       "\n",
       "    this.imageObj.onunload = function() {\n",
       "        this.ws.close();\n",
       "    }\n",
       "\n",
       "    this.ws.onmessage = this._make_on_message_function(this);\n",
       "\n",
       "    this.ondownload = ondownload;\n",
       "}\n",
       "\n",
       "mpl.figure.prototype._init_header = function() {\n",
       "    var titlebar = $(\n",
       "        '<div class=\"ui-dialog-titlebar ui-widget-header ui-corner-all ' +\n",
       "        'ui-helper-clearfix\"/>');\n",
       "    var titletext = $(\n",
       "        '<div class=\"ui-dialog-title\" style=\"width: 100%; ' +\n",
       "        'text-align: center; padding: 3px;\"/>');\n",
       "    titlebar.append(titletext)\n",
       "    this.root.append(titlebar);\n",
       "    this.header = titletext[0];\n",
       "}\n",
       "\n",
       "\n",
       "\n",
       "mpl.figure.prototype._canvas_extra_style = function(canvas_div) {\n",
       "\n",
       "}\n",
       "\n",
       "\n",
       "mpl.figure.prototype._root_extra_style = function(canvas_div) {\n",
       "\n",
       "}\n",
       "\n",
       "mpl.figure.prototype._init_canvas = function() {\n",
       "    var fig = this;\n",
       "\n",
       "    var canvas_div = $('<div/>');\n",
       "\n",
       "    canvas_div.attr('style', 'position: relative; clear: both; outline: 0');\n",
       "\n",
       "    function canvas_keyboard_event(event) {\n",
       "        return fig.key_event(event, event['data']);\n",
       "    }\n",
       "\n",
       "    canvas_div.keydown('key_press', canvas_keyboard_event);\n",
       "    canvas_div.keyup('key_release', canvas_keyboard_event);\n",
       "    this.canvas_div = canvas_div\n",
       "    this._canvas_extra_style(canvas_div)\n",
       "    this.root.append(canvas_div);\n",
       "\n",
       "    var canvas = $('<canvas/>');\n",
       "    canvas.addClass('mpl-canvas');\n",
       "    canvas.attr('style', \"left: 0; top: 0; z-index: 0; outline: 0\")\n",
       "\n",
       "    this.canvas = canvas[0];\n",
       "    this.context = canvas[0].getContext(\"2d\");\n",
       "\n",
       "    var backingStore = this.context.backingStorePixelRatio ||\n",
       "\tthis.context.webkitBackingStorePixelRatio ||\n",
       "\tthis.context.mozBackingStorePixelRatio ||\n",
       "\tthis.context.msBackingStorePixelRatio ||\n",
       "\tthis.context.oBackingStorePixelRatio ||\n",
       "\tthis.context.backingStorePixelRatio || 1;\n",
       "\n",
       "    mpl.ratio = (window.devicePixelRatio || 1) / backingStore;\n",
       "\n",
       "    var rubberband = $('<canvas/>');\n",
       "    rubberband.attr('style', \"position: absolute; left: 0; top: 0; z-index: 1;\")\n",
       "\n",
       "    var pass_mouse_events = true;\n",
       "\n",
       "    canvas_div.resizable({\n",
       "        start: function(event, ui) {\n",
       "            pass_mouse_events = false;\n",
       "        },\n",
       "        resize: function(event, ui) {\n",
       "            fig.request_resize(ui.size.width, ui.size.height);\n",
       "        },\n",
       "        stop: function(event, ui) {\n",
       "            pass_mouse_events = true;\n",
       "            fig.request_resize(ui.size.width, ui.size.height);\n",
       "        },\n",
       "    });\n",
       "\n",
       "    function mouse_event_fn(event) {\n",
       "        if (pass_mouse_events)\n",
       "            return fig.mouse_event(event, event['data']);\n",
       "    }\n",
       "\n",
       "    rubberband.mousedown('button_press', mouse_event_fn);\n",
       "    rubberband.mouseup('button_release', mouse_event_fn);\n",
       "    // Throttle sequential mouse events to 1 every 20ms.\n",
       "    rubberband.mousemove('motion_notify', mouse_event_fn);\n",
       "\n",
       "    rubberband.mouseenter('figure_enter', mouse_event_fn);\n",
       "    rubberband.mouseleave('figure_leave', mouse_event_fn);\n",
       "\n",
       "    canvas_div.on(\"wheel\", function (event) {\n",
       "        event = event.originalEvent;\n",
       "        event['data'] = 'scroll'\n",
       "        if (event.deltaY < 0) {\n",
       "            event.step = 1;\n",
       "        } else {\n",
       "            event.step = -1;\n",
       "        }\n",
       "        mouse_event_fn(event);\n",
       "    });\n",
       "\n",
       "    canvas_div.append(canvas);\n",
       "    canvas_div.append(rubberband);\n",
       "\n",
       "    this.rubberband = rubberband;\n",
       "    this.rubberband_canvas = rubberband[0];\n",
       "    this.rubberband_context = rubberband[0].getContext(\"2d\");\n",
       "    this.rubberband_context.strokeStyle = \"#000000\";\n",
       "\n",
       "    this._resize_canvas = function(width, height) {\n",
       "        // Keep the size of the canvas, canvas container, and rubber band\n",
       "        // canvas in synch.\n",
       "        canvas_div.css('width', width)\n",
       "        canvas_div.css('height', height)\n",
       "\n",
       "        canvas.attr('width', width * mpl.ratio);\n",
       "        canvas.attr('height', height * mpl.ratio);\n",
       "        canvas.attr('style', 'width: ' + width + 'px; height: ' + height + 'px;');\n",
       "\n",
       "        rubberband.attr('width', width);\n",
       "        rubberband.attr('height', height);\n",
       "    }\n",
       "\n",
       "    // Set the figure to an initial 600x600px, this will subsequently be updated\n",
       "    // upon first draw.\n",
       "    this._resize_canvas(600, 600);\n",
       "\n",
       "    // Disable right mouse context menu.\n",
       "    $(this.rubberband_canvas).bind(\"contextmenu\",function(e){\n",
       "        return false;\n",
       "    });\n",
       "\n",
       "    function set_focus () {\n",
       "        canvas.focus();\n",
       "        canvas_div.focus();\n",
       "    }\n",
       "\n",
       "    window.setTimeout(set_focus, 100);\n",
       "}\n",
       "\n",
       "mpl.figure.prototype._init_toolbar = function() {\n",
       "    var fig = this;\n",
       "\n",
       "    var nav_element = $('<div/>')\n",
       "    nav_element.attr('style', 'width: 100%');\n",
       "    this.root.append(nav_element);\n",
       "\n",
       "    // Define a callback function for later on.\n",
       "    function toolbar_event(event) {\n",
       "        return fig.toolbar_button_onclick(event['data']);\n",
       "    }\n",
       "    function toolbar_mouse_event(event) {\n",
       "        return fig.toolbar_button_onmouseover(event['data']);\n",
       "    }\n",
       "\n",
       "    for(var toolbar_ind in mpl.toolbar_items) {\n",
       "        var name = mpl.toolbar_items[toolbar_ind][0];\n",
       "        var tooltip = mpl.toolbar_items[toolbar_ind][1];\n",
       "        var image = mpl.toolbar_items[toolbar_ind][2];\n",
       "        var method_name = mpl.toolbar_items[toolbar_ind][3];\n",
       "\n",
       "        if (!name) {\n",
       "            // put a spacer in here.\n",
       "            continue;\n",
       "        }\n",
       "        var button = $('<button/>');\n",
       "        button.addClass('ui-button ui-widget ui-state-default ui-corner-all ' +\n",
       "                        'ui-button-icon-only');\n",
       "        button.attr('role', 'button');\n",
       "        button.attr('aria-disabled', 'false');\n",
       "        button.click(method_name, toolbar_event);\n",
       "        button.mouseover(tooltip, toolbar_mouse_event);\n",
       "\n",
       "        var icon_img = $('<span/>');\n",
       "        icon_img.addClass('ui-button-icon-primary ui-icon');\n",
       "        icon_img.addClass(image);\n",
       "        icon_img.addClass('ui-corner-all');\n",
       "\n",
       "        var tooltip_span = $('<span/>');\n",
       "        tooltip_span.addClass('ui-button-text');\n",
       "        tooltip_span.html(tooltip);\n",
       "\n",
       "        button.append(icon_img);\n",
       "        button.append(tooltip_span);\n",
       "\n",
       "        nav_element.append(button);\n",
       "    }\n",
       "\n",
       "    var fmt_picker_span = $('<span/>');\n",
       "\n",
       "    var fmt_picker = $('<select/>');\n",
       "    fmt_picker.addClass('mpl-toolbar-option ui-widget ui-widget-content');\n",
       "    fmt_picker_span.append(fmt_picker);\n",
       "    nav_element.append(fmt_picker_span);\n",
       "    this.format_dropdown = fmt_picker[0];\n",
       "\n",
       "    for (var ind in mpl.extensions) {\n",
       "        var fmt = mpl.extensions[ind];\n",
       "        var option = $(\n",
       "            '<option/>', {selected: fmt === mpl.default_extension}).html(fmt);\n",
       "        fmt_picker.append(option)\n",
       "    }\n",
       "\n",
       "    // Add hover states to the ui-buttons\n",
       "    $( \".ui-button\" ).hover(\n",
       "        function() { $(this).addClass(\"ui-state-hover\");},\n",
       "        function() { $(this).removeClass(\"ui-state-hover\");}\n",
       "    );\n",
       "\n",
       "    var status_bar = $('<span class=\"mpl-message\"/>');\n",
       "    nav_element.append(status_bar);\n",
       "    this.message = status_bar[0];\n",
       "}\n",
       "\n",
       "mpl.figure.prototype.request_resize = function(x_pixels, y_pixels) {\n",
       "    // Request matplotlib to resize the figure. Matplotlib will then trigger a resize in the client,\n",
       "    // which will in turn request a refresh of the image.\n",
       "    this.send_message('resize', {'width': x_pixels, 'height': y_pixels});\n",
       "}\n",
       "\n",
       "mpl.figure.prototype.send_message = function(type, properties) {\n",
       "    properties['type'] = type;\n",
       "    properties['figure_id'] = this.id;\n",
       "    this.ws.send(JSON.stringify(properties));\n",
       "}\n",
       "\n",
       "mpl.figure.prototype.send_draw_message = function() {\n",
       "    if (!this.waiting) {\n",
       "        this.waiting = true;\n",
       "        this.ws.send(JSON.stringify({type: \"draw\", figure_id: this.id}));\n",
       "    }\n",
       "}\n",
       "\n",
       "\n",
       "mpl.figure.prototype.handle_save = function(fig, msg) {\n",
       "    var format_dropdown = fig.format_dropdown;\n",
       "    var format = format_dropdown.options[format_dropdown.selectedIndex].value;\n",
       "    fig.ondownload(fig, format);\n",
       "}\n",
       "\n",
       "\n",
       "mpl.figure.prototype.handle_resize = function(fig, msg) {\n",
       "    var size = msg['size'];\n",
       "    if (size[0] != fig.canvas.width || size[1] != fig.canvas.height) {\n",
       "        fig._resize_canvas(size[0], size[1]);\n",
       "        fig.send_message(\"refresh\", {});\n",
       "    };\n",
       "}\n",
       "\n",
       "mpl.figure.prototype.handle_rubberband = function(fig, msg) {\n",
       "    var x0 = msg['x0'] / mpl.ratio;\n",
       "    var y0 = (fig.canvas.height - msg['y0']) / mpl.ratio;\n",
       "    var x1 = msg['x1'] / mpl.ratio;\n",
       "    var y1 = (fig.canvas.height - msg['y1']) / mpl.ratio;\n",
       "    x0 = Math.floor(x0) + 0.5;\n",
       "    y0 = Math.floor(y0) + 0.5;\n",
       "    x1 = Math.floor(x1) + 0.5;\n",
       "    y1 = Math.floor(y1) + 0.5;\n",
       "    var min_x = Math.min(x0, x1);\n",
       "    var min_y = Math.min(y0, y1);\n",
       "    var width = Math.abs(x1 - x0);\n",
       "    var height = Math.abs(y1 - y0);\n",
       "\n",
       "    fig.rubberband_context.clearRect(\n",
       "        0, 0, fig.canvas.width, fig.canvas.height);\n",
       "\n",
       "    fig.rubberband_context.strokeRect(min_x, min_y, width, height);\n",
       "}\n",
       "\n",
       "mpl.figure.prototype.handle_figure_label = function(fig, msg) {\n",
       "    // Updates the figure title.\n",
       "    fig.header.textContent = msg['label'];\n",
       "}\n",
       "\n",
       "mpl.figure.prototype.handle_cursor = function(fig, msg) {\n",
       "    var cursor = msg['cursor'];\n",
       "    switch(cursor)\n",
       "    {\n",
       "    case 0:\n",
       "        cursor = 'pointer';\n",
       "        break;\n",
       "    case 1:\n",
       "        cursor = 'default';\n",
       "        break;\n",
       "    case 2:\n",
       "        cursor = 'crosshair';\n",
       "        break;\n",
       "    case 3:\n",
       "        cursor = 'move';\n",
       "        break;\n",
       "    }\n",
       "    fig.rubberband_canvas.style.cursor = cursor;\n",
       "}\n",
       "\n",
       "mpl.figure.prototype.handle_message = function(fig, msg) {\n",
       "    fig.message.textContent = msg['message'];\n",
       "}\n",
       "\n",
       "mpl.figure.prototype.handle_draw = function(fig, msg) {\n",
       "    // Request the server to send over a new figure.\n",
       "    fig.send_draw_message();\n",
       "}\n",
       "\n",
       "mpl.figure.prototype.handle_image_mode = function(fig, msg) {\n",
       "    fig.image_mode = msg['mode'];\n",
       "}\n",
       "\n",
       "mpl.figure.prototype.updated_canvas_event = function() {\n",
       "    // Called whenever the canvas gets updated.\n",
       "    this.send_message(\"ack\", {});\n",
       "}\n",
       "\n",
       "// A function to construct a web socket function for onmessage handling.\n",
       "// Called in the figure constructor.\n",
       "mpl.figure.prototype._make_on_message_function = function(fig) {\n",
       "    return function socket_on_message(evt) {\n",
       "        if (evt.data instanceof Blob) {\n",
       "            /* FIXME: We get \"Resource interpreted as Image but\n",
       "             * transferred with MIME type text/plain:\" errors on\n",
       "             * Chrome.  But how to set the MIME type?  It doesn't seem\n",
       "             * to be part of the websocket stream */\n",
       "            evt.data.type = \"image/png\";\n",
       "\n",
       "            /* Free the memory for the previous frames */\n",
       "            if (fig.imageObj.src) {\n",
       "                (window.URL || window.webkitURL).revokeObjectURL(\n",
       "                    fig.imageObj.src);\n",
       "            }\n",
       "\n",
       "            fig.imageObj.src = (window.URL || window.webkitURL).createObjectURL(\n",
       "                evt.data);\n",
       "            fig.updated_canvas_event();\n",
       "            fig.waiting = false;\n",
       "            return;\n",
       "        }\n",
       "        else if (typeof evt.data === 'string' && evt.data.slice(0, 21) == \"data:image/png;base64\") {\n",
       "            fig.imageObj.src = evt.data;\n",
       "            fig.updated_canvas_event();\n",
       "            fig.waiting = false;\n",
       "            return;\n",
       "        }\n",
       "\n",
       "        var msg = JSON.parse(evt.data);\n",
       "        var msg_type = msg['type'];\n",
       "\n",
       "        // Call the  \"handle_{type}\" callback, which takes\n",
       "        // the figure and JSON message as its only arguments.\n",
       "        try {\n",
       "            var callback = fig[\"handle_\" + msg_type];\n",
       "        } catch (e) {\n",
       "            console.log(\"No handler for the '\" + msg_type + \"' message type: \", msg);\n",
       "            return;\n",
       "        }\n",
       "\n",
       "        if (callback) {\n",
       "            try {\n",
       "                // console.log(\"Handling '\" + msg_type + \"' message: \", msg);\n",
       "                callback(fig, msg);\n",
       "            } catch (e) {\n",
       "                console.log(\"Exception inside the 'handler_\" + msg_type + \"' callback:\", e, e.stack, msg);\n",
       "            }\n",
       "        }\n",
       "    };\n",
       "}\n",
       "\n",
       "// from http://stackoverflow.com/questions/1114465/getting-mouse-location-in-canvas\n",
       "mpl.findpos = function(e) {\n",
       "    //this section is from http://www.quirksmode.org/js/events_properties.html\n",
       "    var targ;\n",
       "    if (!e)\n",
       "        e = window.event;\n",
       "    if (e.target)\n",
       "        targ = e.target;\n",
       "    else if (e.srcElement)\n",
       "        targ = e.srcElement;\n",
       "    if (targ.nodeType == 3) // defeat Safari bug\n",
       "        targ = targ.parentNode;\n",
       "\n",
       "    // jQuery normalizes the pageX and pageY\n",
       "    // pageX,Y are the mouse positions relative to the document\n",
       "    // offset() returns the position of the element relative to the document\n",
       "    var x = e.pageX - $(targ).offset().left;\n",
       "    var y = e.pageY - $(targ).offset().top;\n",
       "\n",
       "    return {\"x\": x, \"y\": y};\n",
       "};\n",
       "\n",
       "/*\n",
       " * return a copy of an object with only non-object keys\n",
       " * we need this to avoid circular references\n",
       " * http://stackoverflow.com/a/24161582/3208463\n",
       " */\n",
       "function simpleKeys (original) {\n",
       "  return Object.keys(original).reduce(function (obj, key) {\n",
       "    if (typeof original[key] !== 'object')\n",
       "        obj[key] = original[key]\n",
       "    return obj;\n",
       "  }, {});\n",
       "}\n",
       "\n",
       "mpl.figure.prototype.mouse_event = function(event, name) {\n",
       "    var canvas_pos = mpl.findpos(event)\n",
       "\n",
       "    if (name === 'button_press')\n",
       "    {\n",
       "        this.canvas.focus();\n",
       "        this.canvas_div.focus();\n",
       "    }\n",
       "\n",
       "    var x = canvas_pos.x * mpl.ratio;\n",
       "    var y = canvas_pos.y * mpl.ratio;\n",
       "\n",
       "    this.send_message(name, {x: x, y: y, button: event.button,\n",
       "                             step: event.step,\n",
       "                             guiEvent: simpleKeys(event)});\n",
       "\n",
       "    /* This prevents the web browser from automatically changing to\n",
       "     * the text insertion cursor when the button is pressed.  We want\n",
       "     * to control all of the cursor setting manually through the\n",
       "     * 'cursor' event from matplotlib */\n",
       "    event.preventDefault();\n",
       "    return false;\n",
       "}\n",
       "\n",
       "mpl.figure.prototype._key_event_extra = function(event, name) {\n",
       "    // Handle any extra behaviour associated with a key event\n",
       "}\n",
       "\n",
       "mpl.figure.prototype.key_event = function(event, name) {\n",
       "\n",
       "    // Prevent repeat events\n",
       "    if (name == 'key_press')\n",
       "    {\n",
       "        if (event.which === this._key)\n",
       "            return;\n",
       "        else\n",
       "            this._key = event.which;\n",
       "    }\n",
       "    if (name == 'key_release')\n",
       "        this._key = null;\n",
       "\n",
       "    var value = '';\n",
       "    if (event.ctrlKey && event.which != 17)\n",
       "        value += \"ctrl+\";\n",
       "    if (event.altKey && event.which != 18)\n",
       "        value += \"alt+\";\n",
       "    if (event.shiftKey && event.which != 16)\n",
       "        value += \"shift+\";\n",
       "\n",
       "    value += 'k';\n",
       "    value += event.which.toString();\n",
       "\n",
       "    this._key_event_extra(event, name);\n",
       "\n",
       "    this.send_message(name, {key: value,\n",
       "                             guiEvent: simpleKeys(event)});\n",
       "    return false;\n",
       "}\n",
       "\n",
       "mpl.figure.prototype.toolbar_button_onclick = function(name) {\n",
       "    if (name == 'download') {\n",
       "        this.handle_save(this, null);\n",
       "    } else {\n",
       "        this.send_message(\"toolbar_button\", {name: name});\n",
       "    }\n",
       "};\n",
       "\n",
       "mpl.figure.prototype.toolbar_button_onmouseover = function(tooltip) {\n",
       "    this.message.textContent = tooltip;\n",
       "};\n",
       "mpl.toolbar_items = [[\"Home\", \"Reset original view\", \"fa fa-home icon-home\", \"home\"], [\"Back\", \"Back to  previous view\", \"fa fa-arrow-left icon-arrow-left\", \"back\"], [\"Forward\", \"Forward to next view\", \"fa fa-arrow-right icon-arrow-right\", \"forward\"], [\"\", \"\", \"\", \"\"], [\"Pan\", \"Pan axes with left mouse, zoom with right\", \"fa fa-arrows icon-move\", \"pan\"], [\"Zoom\", \"Zoom to rectangle\", \"fa fa-square-o icon-check-empty\", \"zoom\"], [\"\", \"\", \"\", \"\"], [\"Download\", \"Download plot\", \"fa fa-floppy-o icon-save\", \"download\"]];\n",
       "\n",
       "mpl.extensions = [\"eps\", \"jpeg\", \"pdf\", \"png\", \"ps\", \"raw\", \"svg\", \"tif\"];\n",
       "\n",
       "mpl.default_extension = \"png\";var comm_websocket_adapter = function(comm) {\n",
       "    // Create a \"websocket\"-like object which calls the given IPython comm\n",
       "    // object with the appropriate methods. Currently this is a non binary\n",
       "    // socket, so there is still some room for performance tuning.\n",
       "    var ws = {};\n",
       "\n",
       "    ws.close = function() {\n",
       "        comm.close()\n",
       "    };\n",
       "    ws.send = function(m) {\n",
       "        //console.log('sending', m);\n",
       "        comm.send(m);\n",
       "    };\n",
       "    // Register the callback with on_msg.\n",
       "    comm.on_msg(function(msg) {\n",
       "        //console.log('receiving', msg['content']['data'], msg);\n",
       "        // Pass the mpl event to the overriden (by mpl) onmessage function.\n",
       "        ws.onmessage(msg['content']['data'])\n",
       "    });\n",
       "    return ws;\n",
       "}\n",
       "\n",
       "mpl.mpl_figure_comm = function(comm, msg) {\n",
       "    // This is the function which gets called when the mpl process\n",
       "    // starts-up an IPython Comm through the \"matplotlib\" channel.\n",
       "\n",
       "    var id = msg.content.data.id;\n",
       "    // Get hold of the div created by the display call when the Comm\n",
       "    // socket was opened in Python.\n",
       "    var element = $(\"#\" + id);\n",
       "    var ws_proxy = comm_websocket_adapter(comm)\n",
       "\n",
       "    function ondownload(figure, format) {\n",
       "        window.open(figure.imageObj.src);\n",
       "    }\n",
       "\n",
       "    var fig = new mpl.figure(id, ws_proxy,\n",
       "                           ondownload,\n",
       "                           element.get(0));\n",
       "\n",
       "    // Call onopen now - mpl needs it, as it is assuming we've passed it a real\n",
       "    // web socket which is closed, not our websocket->open comm proxy.\n",
       "    ws_proxy.onopen();\n",
       "\n",
       "    fig.parent_element = element.get(0);\n",
       "    fig.cell_info = mpl.find_output_cell(\"<div id='\" + id + \"'></div>\");\n",
       "    if (!fig.cell_info) {\n",
       "        console.error(\"Failed to find cell for figure\", id, fig);\n",
       "        return;\n",
       "    }\n",
       "\n",
       "    var output_index = fig.cell_info[2]\n",
       "    var cell = fig.cell_info[0];\n",
       "\n",
       "};\n",
       "\n",
       "mpl.figure.prototype.handle_close = function(fig, msg) {\n",
       "    var width = fig.canvas.width/mpl.ratio\n",
       "    fig.root.unbind('remove')\n",
       "\n",
       "    // Update the output cell to use the data from the current canvas.\n",
       "    fig.push_to_output();\n",
       "    var dataURL = fig.canvas.toDataURL();\n",
       "    // Re-enable the keyboard manager in IPython - without this line, in FF,\n",
       "    // the notebook keyboard shortcuts fail.\n",
       "    IPython.keyboard_manager.enable()\n",
       "    $(fig.parent_element).html('<img src=\"' + dataURL + '\" width=\"' + width + '\">');\n",
       "    fig.close_ws(fig, msg);\n",
       "}\n",
       "\n",
       "mpl.figure.prototype.close_ws = function(fig, msg){\n",
       "    fig.send_message('closing', msg);\n",
       "    // fig.ws.close()\n",
       "}\n",
       "\n",
       "mpl.figure.prototype.push_to_output = function(remove_interactive) {\n",
       "    // Turn the data on the canvas into data in the output cell.\n",
       "    var width = this.canvas.width/mpl.ratio\n",
       "    var dataURL = this.canvas.toDataURL();\n",
       "    this.cell_info[1]['text/html'] = '<img src=\"' + dataURL + '\" width=\"' + width + '\">';\n",
       "}\n",
       "\n",
       "mpl.figure.prototype.updated_canvas_event = function() {\n",
       "    // Tell IPython that the notebook contents must change.\n",
       "    IPython.notebook.set_dirty(true);\n",
       "    this.send_message(\"ack\", {});\n",
       "    var fig = this;\n",
       "    // Wait a second, then push the new image to the DOM so\n",
       "    // that it is saved nicely (might be nice to debounce this).\n",
       "    setTimeout(function () { fig.push_to_output() }, 1000);\n",
       "}\n",
       "\n",
       "mpl.figure.prototype._init_toolbar = function() {\n",
       "    var fig = this;\n",
       "\n",
       "    var nav_element = $('<div/>')\n",
       "    nav_element.attr('style', 'width: 100%');\n",
       "    this.root.append(nav_element);\n",
       "\n",
       "    // Define a callback function for later on.\n",
       "    function toolbar_event(event) {\n",
       "        return fig.toolbar_button_onclick(event['data']);\n",
       "    }\n",
       "    function toolbar_mouse_event(event) {\n",
       "        return fig.toolbar_button_onmouseover(event['data']);\n",
       "    }\n",
       "\n",
       "    for(var toolbar_ind in mpl.toolbar_items){\n",
       "        var name = mpl.toolbar_items[toolbar_ind][0];\n",
       "        var tooltip = mpl.toolbar_items[toolbar_ind][1];\n",
       "        var image = mpl.toolbar_items[toolbar_ind][2];\n",
       "        var method_name = mpl.toolbar_items[toolbar_ind][3];\n",
       "\n",
       "        if (!name) { continue; };\n",
       "\n",
       "        var button = $('<button class=\"btn btn-default\" href=\"#\" title=\"' + name + '\"><i class=\"fa ' + image + ' fa-lg\"></i></button>');\n",
       "        button.click(method_name, toolbar_event);\n",
       "        button.mouseover(tooltip, toolbar_mouse_event);\n",
       "        nav_element.append(button);\n",
       "    }\n",
       "\n",
       "    // Add the status bar.\n",
       "    var status_bar = $('<span class=\"mpl-message\" style=\"text-align:right; float: right;\"/>');\n",
       "    nav_element.append(status_bar);\n",
       "    this.message = status_bar[0];\n",
       "\n",
       "    // Add the close button to the window.\n",
       "    var buttongrp = $('<div class=\"btn-group inline pull-right\"></div>');\n",
       "    var button = $('<button class=\"btn btn-mini btn-primary\" href=\"#\" title=\"Stop Interaction\"><i class=\"fa fa-power-off icon-remove icon-large\"></i></button>');\n",
       "    button.click(function (evt) { fig.handle_close(fig, {}); } );\n",
       "    button.mouseover('Stop Interaction', toolbar_mouse_event);\n",
       "    buttongrp.append(button);\n",
       "    var titlebar = this.root.find($('.ui-dialog-titlebar'));\n",
       "    titlebar.prepend(buttongrp);\n",
       "}\n",
       "\n",
       "mpl.figure.prototype._root_extra_style = function(el){\n",
       "    var fig = this\n",
       "    el.on(\"remove\", function(){\n",
       "\tfig.close_ws(fig, {});\n",
       "    });\n",
       "}\n",
       "\n",
       "mpl.figure.prototype._canvas_extra_style = function(el){\n",
       "    // this is important to make the div 'focusable\n",
       "    el.attr('tabindex', 0)\n",
       "    // reach out to IPython and tell the keyboard manager to turn it's self\n",
       "    // off when our div gets focus\n",
       "\n",
       "    // location in version 3\n",
       "    if (IPython.notebook.keyboard_manager) {\n",
       "        IPython.notebook.keyboard_manager.register_events(el);\n",
       "    }\n",
       "    else {\n",
       "        // location in version 2\n",
       "        IPython.keyboard_manager.register_events(el);\n",
       "    }\n",
       "\n",
       "}\n",
       "\n",
       "mpl.figure.prototype._key_event_extra = function(event, name) {\n",
       "    var manager = IPython.notebook.keyboard_manager;\n",
       "    if (!manager)\n",
       "        manager = IPython.keyboard_manager;\n",
       "\n",
       "    // Check for shift+enter\n",
       "    if (event.shiftKey && event.which == 13) {\n",
       "        this.canvas_div.blur();\n",
       "        // select the cell after this one\n",
       "        var index = IPython.notebook.find_cell_index(this.cell_info[0]);\n",
       "        IPython.notebook.select(index + 1);\n",
       "    }\n",
       "}\n",
       "\n",
       "mpl.figure.prototype.handle_save = function(fig, msg) {\n",
       "    fig.ondownload(fig, null);\n",
       "}\n",
       "\n",
       "\n",
       "mpl.find_output_cell = function(html_output) {\n",
       "    // Return the cell and output element which can be found *uniquely* in the notebook.\n",
       "    // Note - this is a bit hacky, but it is done because the \"notebook_saving.Notebook\"\n",
       "    // IPython event is triggered only after the cells have been serialised, which for\n",
       "    // our purposes (turning an active figure into a static one), is too late.\n",
       "    var cells = IPython.notebook.get_cells();\n",
       "    var ncells = cells.length;\n",
       "    for (var i=0; i<ncells; i++) {\n",
       "        var cell = cells[i];\n",
       "        if (cell.cell_type === 'code'){\n",
       "            for (var j=0; j<cell.output_area.outputs.length; j++) {\n",
       "                var data = cell.output_area.outputs[j];\n",
       "                if (data.data) {\n",
       "                    // IPython >= 3 moved mimebundle to data attribute of output\n",
       "                    data = data.data;\n",
       "                }\n",
       "                if (data['text/html'] == html_output) {\n",
       "                    return [cell, data, j];\n",
       "                }\n",
       "            }\n",
       "        }\n",
       "    }\n",
       "}\n",
       "\n",
       "// Register the function which deals with the matplotlib target/channel.\n",
       "// The kernel may be null if the page has been refreshed.\n",
       "if (IPython.notebook.kernel != null) {\n",
       "    IPython.notebook.kernel.comm_manager.register_target('matplotlib', mpl.mpl_figure_comm);\n",
       "}\n"
      ],
      "text/plain": [
       "<IPython.core.display.Javascript object>"
      ]
     },
     "metadata": {},
     "output_type": "display_data"
    },
    {
     "data": {
      "text/html": [
       "<img src=\"data:image/png;base64,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\" width=\"639.9999861283738\">"
      ],
      "text/plain": [
       "<IPython.core.display.HTML object>"
      ]
     },
     "metadata": {},
     "output_type": "display_data"
    },
    {
     "data": {
      "text/plain": [
       "[<matplotlib.lines.Line2D at 0x10613e6d8>]"
      ]
     },
     "execution_count": 3,
     "metadata": {},
     "output_type": "execute_result"
    }
   ],
   "source": [
    "plt.plot([1,2,3],[2,2,1])"
   ]
  },
  {
   "cell_type": "markdown",
   "metadata": {
    "nbpresent": {
     "id": "f8bbadda-057b-4fc3-9520-98e1eb7290bf"
    }
   },
   "source": [
    "## Fancy stuff"
   ]
  },
  {
   "cell_type": "markdown",
   "metadata": {
    "nbpresent": {
     "id": "142c55e4-630a-4645-a53d-c5d44ce851a7"
    }
   },
   "source": [
    "### Presentations\n",
    "\n",
    "* https://damianavila.github.io/RISE/\n",
    "* https://github.com/Anaconda-Platform/nbpresent#install"
   ]
  },
  {
   "cell_type": "markdown",
   "metadata": {
    "collapsed": true,
    "nbpresent": {
     "id": "f161f7cd-0871-409d-915b-be2437af604b"
    }
   },
   "source": [
    "Test meei "
   ]
  },
  {
   "cell_type": "markdown",
   "metadata": {
    "nbpresent": {
     "id": "b5529776-7f55-4656-91ae-52671d2beb53"
    }
   },
   "source": [
    "## Reading from other Jupyter notebooks"
   ]
  },
  {
   "cell_type": "code",
   "execution_count": 17,
   "metadata": {
    "collapsed": true,
    "nbpresent": {
     "id": "28658bff-f3cf-42e4-8d4e-9da450389e86"
    }
   },
   "outputs": [],
   "source": [
    "import json"
   ]
  },
  {
   "cell_type": "code",
   "execution_count": 36,
   "metadata": {
    "collapsed": true,
    "nbpresent": {
     "id": "3756ac33-3fc9-4b28-b4b3-943f5b6c30a2"
    }
   },
   "outputs": [],
   "source": [
    "f1 = open('DependA.ipynb')\n",
    "lines=f1.readlines()\n",
    "f1.close()\n",
    "\n",
    "str_dum = ''\n",
    "for l in lines:\n",
    "    str_dum +=l"
   ]
  },
  {
   "cell_type": "code",
   "execution_count": 38,
   "metadata": {
    "collapsed": true,
    "nbpresent": {
     "id": "bfc8240c-866a-4a93-b06e-53c1cc4337ff"
    }
   },
   "outputs": [],
   "source": [
    "d = json.loads(str_dum)"
   ]
  },
  {
   "cell_type": "code",
   "execution_count": 39,
   "metadata": {
    "nbpresent": {
     "id": "794923a5-16e5-4588-a216-37026cce3281"
    }
   },
   "outputs": [
    {
     "data": {
      "text/plain": [
       "[{u'cell_type': u'code',\n",
       "  u'execution_count': 5,\n",
       "  u'metadata': {},\n",
       "  u'outputs': [],\n",
       "  u'source': [u'time = 3. #s\\n', u'distance = 5. #m']},\n",
       " {u'cell_type': u'code',\n",
       "  u'execution_count': 6,\n",
       "  u'metadata': {},\n",
       "  u'outputs': [{u'data': {u'text/plain': [u'1.6666666666666667']},\n",
       "    u'execution_count': 6,\n",
       "    u'metadata': {},\n",
       "    u'output_type': u'execute_result'}],\n",
       "  u'source': [u'velocity = distance/time #m/s\\n', u'velocity']},\n",
       " {u'cell_type': u'code',\n",
       "  u'execution_count': None,\n",
       "  u'metadata': {},\n",
       "  u'outputs': [],\n",
       "  u'source': []}]"
      ]
     },
     "execution_count": 39,
     "metadata": {},
     "output_type": "execute_result"
    }
   ],
   "source": [
    "d['cells']"
   ]
  },
  {
   "cell_type": "code",
   "execution_count": 51,
   "metadata": {
    "nbpresent": {
     "id": "060dd7b0-0ac5-4e7e-ac32-2a449bedfa6a"
    }
   },
   "outputs": [
    {
     "name": "stdout",
     "output_type": "stream",
     "text": [
      "[u'1.6666666666666667']\n"
     ]
    }
   ],
   "source": [
    "for cell in d['cells']:\n",
    "    if len(cell['source'])>0:\n",
    "        if 'velocity' in cell['source'][-1]:\n",
    "            print(cell['outputs'][0]['data']['text/plain'])"
   ]
  },
  {
   "cell_type": "markdown",
   "metadata": {
    "nbpresent": {
     "id": "c0cd4b20-6eae-4bd1-ac54-f00f10a95f9e"
    }
   },
   "source": [
    "## Converting to other formats"
   ]
  },
  {
   "cell_type": "code",
   "execution_count": 60,
   "metadata": {
    "nbpresent": {
     "id": "93fd7ddd-126a-49ec-83dc-32be24811a12"
    }
   },
   "outputs": [
    {
     "name": "stderr",
     "output_type": "stream",
     "text": [
      "[NbConvertApp] Converting notebook CapabilityDemos.ipynb to python\n",
      "[NbConvertApp] Writing 663 bytes to CapabilityDemos.py\n"
     ]
    }
   ],
   "source": [
    "%%bash\n",
    "jupyter nbconvert CapabilityDemos.ipynb --to python  #--to pdf"
   ]
  },
  {
   "cell_type": "code",
   "execution_count": 62,
   "metadata": {
    "nbpresent": {
     "id": "606ff9a0-5b0b-4ca5-aed0-511c659dda40"
    }
   },
   "outputs": [
    {
     "name": "stdout",
     "output_type": "stream",
     "text": [
      "CapabilityDemos.ipynb DependA.ipynb\n",
      "CapabilityDemos.py    Jupyter_prep.md\n"
     ]
    }
   ],
   "source": [
    "!ls"
   ]
  },
  {
   "cell_type": "markdown",
   "metadata": {
    "nbpresent": {
     "id": "ff15b8e6-788a-4452-a095-605eab64a72e"
    }
   },
   "source": [
    "## Adding other content"
   ]
  },
  {
   "cell_type": "code",
   "execution_count": null,
   "metadata": {
    "collapsed": true,
    "nbpresent": {
     "id": "a0889a88-b57b-4f4f-a83d-57f071c36414"
    }
   },
   "outputs": [],
   "source": []
  }
 ],
 "metadata": {
  "celltoolbar": "Slideshow",
  "kernelspec": {
   "display_name": "Python [conda env:py36]",
   "language": "python",
   "name": "conda-env-py36-py"
  },
  "language_info": {
   "codemirror_mode": {
    "name": "ipython",
    "version": 3
   },
   "file_extension": ".py",
   "mimetype": "text/x-python",
   "name": "python",
   "nbconvert_exporter": "python",
   "pygments_lexer": "ipython3",
   "version": "3.6.1"
  },
  "nbpresent": {
   "slides": {
    "4f5be389-e617-442a-81b1-3d26ae3e30e5": {
     "id": "4f5be389-e617-442a-81b1-3d26ae3e30e5",
     "prev": "9998f616-36a3-4ee1-8ebd-f196820444a6",
     "regions": {
      "4758b32a-5458-485f-8ef2-661c1052bb12": {
       "attrs": {
        "height": 0.47550771424677235,
        "width": 0.8,
        "x": 0.1,
        "y": 0.1
       },
       "content": {
        "cell": "184f26db-825c-4999-812d-a0a3093d940e",
        "part": "source"
       },
       "id": "4758b32a-5458-485f-8ef2-661c1052bb12"
      },
      "c4a2c4c4-f378-40c7-9bc7-c3fc7f4c3954": {
       "attrs": {
        "height": 0.3163288571792454,
        "width": 0.8006457679824669,
        "x": 0.1,
        "y": 0.5836711428207545
       },
       "id": "c4a2c4c4-f378-40c7-9bc7-c3fc7f4c3954"
      }
     }
    },
    "9998f616-36a3-4ee1-8ebd-f196820444a6": {
     "id": "9998f616-36a3-4ee1-8ebd-f196820444a6",
     "prev": null,
     "regions": {
      "3d299153-ea93-4413-9170-f8def072ad1d": {
       "attrs": {
        "height": 0.8487069900401905,
        "width": 0.5527772458199158,
        "x": 0.41402341692921435,
        "y": 0.050932076523258776
       },
       "content": {
        "cell": "db47c4ab-e0a1-45e3-8270-c624511e651a",
        "part": "whole"
       },
       "id": "3d299153-ea93-4413-9170-f8def072ad1d"
      },
      "487a6ae6-532c-42c1-9db8-99b444a854d3": {
       "attrs": {
        "height": 0.5687999131673516,
        "width": 0.26717360602593654,
        "x": 0.1,
        "y": 0.3312000868326485
       },
       "content": {
        "cell": "08f3d8c6-0c0a-42d9-b1fb-33b8e8188bf1",
        "part": "source"
       },
       "id": "487a6ae6-532c-42c1-9db8-99b444a854d3"
      },
      "7abbf79d-2005-4646-81a3-75f3f67f8291": {
       "attrs": {
        "height": 0.0994406414916034,
        "width": 0.29495128533264126,
        "x": 0.09494951285332644,
        "y": 0.03041550186090635
       },
       "content": {
        "cell": "cb56ab0c-8f1d-4826-bce5-3c1690a9848a",
        "part": "source"
       },
       "id": "7abbf79d-2005-4646-81a3-75f3f67f8291"
      },
      "d531334b-1512-4e3b-9922-b62220bffd2d": {
       "attrs": {
        "height": 0.10415512992418947,
        "width": 0.2974765289059781,
        "x": 0.09242426927998965,
        "y": 0.14713788859832216
       },
       "content": {
        "cell": "9137455d-c99d-4bfc-a84d-af6f8324c8d2",
        "part": "source"
       },
       "id": "d531334b-1512-4e3b-9922-b62220bffd2d"
      }
     },
     "theme": null
    },
    "d5bef136-7301-4367-841b-3ff5a7144829": {
     "id": "d5bef136-7301-4367-841b-3ff5a7144829",
     "prev": "4f5be389-e617-442a-81b1-3d26ae3e30e5",
     "regions": {
      "5e4cf40e-40ac-483c-aecd-8e9abca344ae": {
       "attrs": {
        "height": 0.47550771424677235,
        "width": 0.8,
        "x": 0.1,
        "y": 0.1
       },
       "content": {
        "cell": "142c55e4-630a-4645-a53d-c5d44ce851a7",
        "part": "source"
       },
       "id": "5e4cf40e-40ac-483c-aecd-8e9abca344ae"
      },
      "fadee0ca-f2ea-4c2c-863a-370f28522cf8": {
       "attrs": {
        "height": 0.3163288571792454,
        "width": 0.8006457679824669,
        "x": 0.1,
        "y": 0.5836711428207545
       },
       "content": null,
       "id": "fadee0ca-f2ea-4c2c-863a-370f28522cf8"
      }
     }
    }
   },
   "themes": {
    "default": "d517e9c5-1a3f-4571-93c1-7bc4285a0365",
    "theme": {}
   }
  },
  "toc": {
   "colors": {
    "hover_highlight": "#DAA520",
    "navigate_num": "#000000",
    "navigate_text": "#333333",
    "running_highlight": "#FF0000",
    "selected_highlight": "#FFD700",
    "sidebar_border": "#EEEEEE",
    "wrapper_background": "#FFFFFF"
   },
   "moveMenuLeft": true,
   "nav_menu": {
    "height": "121px",
    "width": "252px"
   },
   "navigate_menu": true,
   "number_sections": true,
   "sideBar": true,
   "threshold": 4,
   "toc_cell": true,
   "toc_section_display": "block",
   "toc_window_display": false,
   "widenNotebook": false
  }
 },
 "nbformat": 4,
 "nbformat_minor": 2
}
