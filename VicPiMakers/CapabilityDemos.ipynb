{
 "cells": [
  {
   "cell_type": "markdown",
   "metadata": {
    "nbpresent": {
     "id": "184f26db-825c-4999-812d-a0a3093d940e"
    },
    "slideshow": {
     "slide_type": "-"
    }
   },
   "source": [
    "# <center> Jupyter Notebooks in Action </center>\n",
    "<center> Christian Ritter </center>\n",
    "<center> critter@uvic.ca </center>\n",
    "\n",
    "<center> Notebooks @ https://github.com/chritter/Talks/blob/master/VicPiMakers </center> \n"
   ]
  },
  {
   "cell_type": "markdown",
   "metadata": {},
   "source": [
    "## Setting up Jupyter"
   ]
  },
  {
   "cell_type": "markdown",
   "metadata": {},
   "source": [
    "* Notebook server start with `jupyter notebook`\n",
    "* Jupyter Notebook App starts dashboard\n",
    "* Port of choice \n",
    "* separate configuration files\n",
    "* GUI through browser\n",
    "* Notebooks are in JSON format and human readable (metadata editable)\n",
    "* Configuration: jupyter_notebook_config.py\n",
    "* Support:\n",
    "    * Chrome\n",
    "    * Safari\n",
    "    * Firefox\n"
   ]
  },
  {
   "cell_type": "code",
   "execution_count": 30,
   "metadata": {},
   "outputs": [
    {
     "name": "stdout",
     "output_type": "stream",
     "text": [
      "{\n",
      "  \"shell_port\": 52915,\n",
      "  \"iopub_port\": 52916,\n",
      "  \"stdin_port\": 52917,\n",
      "  \"control_port\": 52918,\n",
      "  \"hb_port\": 52919,\n",
      "  \"ip\": \"127.0.0.1\",\n",
      "  \"key\": \"765f776a-606cad4b273486a47f0038b6\",\n",
      "  \"transport\": \"tcp\",\n",
      "  \"signature_scheme\": \"hmac-sha256\",\n",
      "  \"kernel_name\": \"\"\n",
      "}\n",
      "\n",
      "Paste the above JSON into a file, and connect with:\n",
      "    $> jupyter <app> --existing <file>\n",
      "or, if you are local, you can connect with just:\n",
      "    $> jupyter <app> --existing kernel-99c2fecf-4889-4b16-a164-42194f682d5b.json\n",
      "or even just:\n",
      "    $> jupyter <app> --existing\n",
      "if this is the most recent Jupyter kernel you have started.\n"
     ]
    }
   ],
   "source": [
    "%connect_info"
   ]
  },
  {
   "cell_type": "markdown",
   "metadata": {
    "nbpresent": {
     "id": "cb56ab0c-8f1d-4826-bce5-3c1690a9848a"
    },
    "slideshow": {
     "slide_type": "slide"
    }
   },
   "source": [
    "## Standard capabilities"
   ]
  },
  {
   "cell_type": "markdown",
   "metadata": {
    "nbpresent": {
     "id": "9137455d-c99d-4bfc-a84d-af6f8324c8d2"
    }
   },
   "source": [
    "### Basic Python"
   ]
  },
  {
   "cell_type": "markdown",
   "metadata": {},
   "source": [
    "* Only execution of one cell at a time\n",
    "* Serves as analysis, analytics platform but not for software development\n",
    "* Basic cell types are code cells and markdown cells "
   ]
  },
  {
   "cell_type": "code",
   "execution_count": 31,
   "metadata": {},
   "outputs": [
    {
     "name": "stdout",
     "output_type": "stream",
     "text": [
      "3\n"
     ]
    }
   ],
   "source": [
    "a = 3\n",
    "print(a)"
   ]
  },
  {
   "cell_type": "markdown",
   "metadata": {},
   "source": [
    "Standard markdown Markdown\n",
    "* Test\n",
    "`Test`\n",
    "***Test***\n",
    "\n",
    "and Latex\n",
    "\n",
    "$\\int_0^3 x^2 dx$"
   ]
  },
  {
   "cell_type": "code",
   "execution_count": 32,
   "metadata": {},
   "outputs": [
    {
     "data": {
      "text/html": [
       "<div>\n",
       "<style>\n",
       "    .dataframe thead tr:only-child th {\n",
       "        text-align: right;\n",
       "    }\n",
       "\n",
       "    .dataframe thead th {\n",
       "        text-align: left;\n",
       "    }\n",
       "\n",
       "    .dataframe tbody tr th {\n",
       "        vertical-align: top;\n",
       "    }\n",
       "</style>\n",
       "<table border=\"1\" class=\"dataframe\">\n",
       "  <thead>\n",
       "    <tr style=\"text-align: right;\">\n",
       "      <th></th>\n",
       "      <th>aa</th>\n",
       "      <th>bb</th>\n",
       "    </tr>\n",
       "  </thead>\n",
       "  <tbody>\n",
       "    <tr>\n",
       "      <th>0</th>\n",
       "      <td>1</td>\n",
       "      <td>2</td>\n",
       "    </tr>\n",
       "    <tr>\n",
       "      <th>1</th>\n",
       "      <td>2</td>\n",
       "      <td>3</td>\n",
       "    </tr>\n",
       "    <tr>\n",
       "      <th>2</th>\n",
       "      <td>3</td>\n",
       "      <td>4</td>\n",
       "    </tr>\n",
       "  </tbody>\n",
       "</table>\n",
       "</div>"
      ],
      "text/plain": [
       "   aa  bb\n",
       "0   1   2\n",
       "1   2   3\n",
       "2   3   4"
      ]
     },
     "execution_count": 32,
     "metadata": {},
     "output_type": "execute_result"
    }
   ],
   "source": [
    "import pandas as pd\n",
    "pd.DataFrame({'aa':[1,2,3],'bb':[2,3,4]})"
   ]
  },
  {
   "cell_type": "markdown",
   "metadata": {},
   "source": [
    "### Plotting"
   ]
  },
  {
   "cell_type": "markdown",
   "metadata": {
    "nbpresent": {
     "id": "08f3d8c6-0c0a-42d9-b1fb-33b8e8188bf1"
    }
   },
   "source": [
    "* Supports standard plotting capabilities of Python\n",
    "* Supports different backends such as the interactive `nbagg` backend"
   ]
  },
  {
   "cell_type": "code",
   "execution_count": 33,
   "metadata": {
    "collapsed": true
   },
   "outputs": [],
   "source": [
    "import matplotlib.pyplot as plt\n",
    "%matplotlib nbagg"
   ]
  },
  {
   "cell_type": "code",
   "execution_count": 34,
   "metadata": {
    "nbpresent": {
     "id": "db47c4ab-e0a1-45e3-8270-c624511e651a"
    },
    "slideshow": {
     "slide_type": "-"
    }
   },
   "outputs": [
    {
     "data": {
      "application/javascript": [
       "/* Put everything inside the global mpl namespace */\n",
       "window.mpl = {};\n",
       "\n",
       "\n",
       "mpl.get_websocket_type = function() {\n",
       "    if (typeof(WebSocket) !== 'undefined') {\n",
       "        return WebSocket;\n",
       "    } else if (typeof(MozWebSocket) !== 'undefined') {\n",
       "        return MozWebSocket;\n",
       "    } else {\n",
       "        alert('Your browser does not have WebSocket support.' +\n",
       "              'Please try Chrome, Safari or Firefox ≥ 6. ' +\n",
       "              'Firefox 4 and 5 are also supported but you ' +\n",
       "              'have to enable WebSockets in about:config.');\n",
       "    };\n",
       "}\n",
       "\n",
       "mpl.figure = function(figure_id, websocket, ondownload, parent_element) {\n",
       "    this.id = figure_id;\n",
       "\n",
       "    this.ws = websocket;\n",
       "\n",
       "    this.supports_binary = (this.ws.binaryType != undefined);\n",
       "\n",
       "    if (!this.supports_binary) {\n",
       "        var warnings = document.getElementById(\"mpl-warnings\");\n",
       "        if (warnings) {\n",
       "            warnings.style.display = 'block';\n",
       "            warnings.textContent = (\n",
       "                \"This browser does not support binary websocket messages. \" +\n",
       "                    \"Performance may be slow.\");\n",
       "        }\n",
       "    }\n",
       "\n",
       "    this.imageObj = new Image();\n",
       "\n",
       "    this.context = undefined;\n",
       "    this.message = undefined;\n",
       "    this.canvas = undefined;\n",
       "    this.rubberband_canvas = undefined;\n",
       "    this.rubberband_context = undefined;\n",
       "    this.format_dropdown = undefined;\n",
       "\n",
       "    this.image_mode = 'full';\n",
       "\n",
       "    this.root = $('<div/>');\n",
       "    this._root_extra_style(this.root)\n",
       "    this.root.attr('style', 'display: inline-block');\n",
       "\n",
       "    $(parent_element).append(this.root);\n",
       "\n",
       "    this._init_header(this);\n",
       "    this._init_canvas(this);\n",
       "    this._init_toolbar(this);\n",
       "\n",
       "    var fig = this;\n",
       "\n",
       "    this.waiting = false;\n",
       "\n",
       "    this.ws.onopen =  function () {\n",
       "            fig.send_message(\"supports_binary\", {value: fig.supports_binary});\n",
       "            fig.send_message(\"send_image_mode\", {});\n",
       "            if (mpl.ratio != 1) {\n",
       "                fig.send_message(\"set_dpi_ratio\", {'dpi_ratio': mpl.ratio});\n",
       "            }\n",
       "            fig.send_message(\"refresh\", {});\n",
       "        }\n",
       "\n",
       "    this.imageObj.onload = function() {\n",
       "            if (fig.image_mode == 'full') {\n",
       "                // Full images could contain transparency (where diff images\n",
       "                // almost always do), so we need to clear the canvas so that\n",
       "                // there is no ghosting.\n",
       "                fig.context.clearRect(0, 0, fig.canvas.width, fig.canvas.height);\n",
       "            }\n",
       "            fig.context.drawImage(fig.imageObj, 0, 0);\n",
       "        };\n",
       "\n",
       "    this.imageObj.onunload = function() {\n",
       "        this.ws.close();\n",
       "    }\n",
       "\n",
       "    this.ws.onmessage = this._make_on_message_function(this);\n",
       "\n",
       "    this.ondownload = ondownload;\n",
       "}\n",
       "\n",
       "mpl.figure.prototype._init_header = function() {\n",
       "    var titlebar = $(\n",
       "        '<div class=\"ui-dialog-titlebar ui-widget-header ui-corner-all ' +\n",
       "        'ui-helper-clearfix\"/>');\n",
       "    var titletext = $(\n",
       "        '<div class=\"ui-dialog-title\" style=\"width: 100%; ' +\n",
       "        'text-align: center; padding: 3px;\"/>');\n",
       "    titlebar.append(titletext)\n",
       "    this.root.append(titlebar);\n",
       "    this.header = titletext[0];\n",
       "}\n",
       "\n",
       "\n",
       "\n",
       "mpl.figure.prototype._canvas_extra_style = function(canvas_div) {\n",
       "\n",
       "}\n",
       "\n",
       "\n",
       "mpl.figure.prototype._root_extra_style = function(canvas_div) {\n",
       "\n",
       "}\n",
       "\n",
       "mpl.figure.prototype._init_canvas = function() {\n",
       "    var fig = this;\n",
       "\n",
       "    var canvas_div = $('<div/>');\n",
       "\n",
       "    canvas_div.attr('style', 'position: relative; clear: both; outline: 0');\n",
       "\n",
       "    function canvas_keyboard_event(event) {\n",
       "        return fig.key_event(event, event['data']);\n",
       "    }\n",
       "\n",
       "    canvas_div.keydown('key_press', canvas_keyboard_event);\n",
       "    canvas_div.keyup('key_release', canvas_keyboard_event);\n",
       "    this.canvas_div = canvas_div\n",
       "    this._canvas_extra_style(canvas_div)\n",
       "    this.root.append(canvas_div);\n",
       "\n",
       "    var canvas = $('<canvas/>');\n",
       "    canvas.addClass('mpl-canvas');\n",
       "    canvas.attr('style', \"left: 0; top: 0; z-index: 0; outline: 0\")\n",
       "\n",
       "    this.canvas = canvas[0];\n",
       "    this.context = canvas[0].getContext(\"2d\");\n",
       "\n",
       "    var backingStore = this.context.backingStorePixelRatio ||\n",
       "\tthis.context.webkitBackingStorePixelRatio ||\n",
       "\tthis.context.mozBackingStorePixelRatio ||\n",
       "\tthis.context.msBackingStorePixelRatio ||\n",
       "\tthis.context.oBackingStorePixelRatio ||\n",
       "\tthis.context.backingStorePixelRatio || 1;\n",
       "\n",
       "    mpl.ratio = (window.devicePixelRatio || 1) / backingStore;\n",
       "\n",
       "    var rubberband = $('<canvas/>');\n",
       "    rubberband.attr('style', \"position: absolute; left: 0; top: 0; z-index: 1;\")\n",
       "\n",
       "    var pass_mouse_events = true;\n",
       "\n",
       "    canvas_div.resizable({\n",
       "        start: function(event, ui) {\n",
       "            pass_mouse_events = false;\n",
       "        },\n",
       "        resize: function(event, ui) {\n",
       "            fig.request_resize(ui.size.width, ui.size.height);\n",
       "        },\n",
       "        stop: function(event, ui) {\n",
       "            pass_mouse_events = true;\n",
       "            fig.request_resize(ui.size.width, ui.size.height);\n",
       "        },\n",
       "    });\n",
       "\n",
       "    function mouse_event_fn(event) {\n",
       "        if (pass_mouse_events)\n",
       "            return fig.mouse_event(event, event['data']);\n",
       "    }\n",
       "\n",
       "    rubberband.mousedown('button_press', mouse_event_fn);\n",
       "    rubberband.mouseup('button_release', mouse_event_fn);\n",
       "    // Throttle sequential mouse events to 1 every 20ms.\n",
       "    rubberband.mousemove('motion_notify', mouse_event_fn);\n",
       "\n",
       "    rubberband.mouseenter('figure_enter', mouse_event_fn);\n",
       "    rubberband.mouseleave('figure_leave', mouse_event_fn);\n",
       "\n",
       "    canvas_div.on(\"wheel\", function (event) {\n",
       "        event = event.originalEvent;\n",
       "        event['data'] = 'scroll'\n",
       "        if (event.deltaY < 0) {\n",
       "            event.step = 1;\n",
       "        } else {\n",
       "            event.step = -1;\n",
       "        }\n",
       "        mouse_event_fn(event);\n",
       "    });\n",
       "\n",
       "    canvas_div.append(canvas);\n",
       "    canvas_div.append(rubberband);\n",
       "\n",
       "    this.rubberband = rubberband;\n",
       "    this.rubberband_canvas = rubberband[0];\n",
       "    this.rubberband_context = rubberband[0].getContext(\"2d\");\n",
       "    this.rubberband_context.strokeStyle = \"#000000\";\n",
       "\n",
       "    this._resize_canvas = function(width, height) {\n",
       "        // Keep the size of the canvas, canvas container, and rubber band\n",
       "        // canvas in synch.\n",
       "        canvas_div.css('width', width)\n",
       "        canvas_div.css('height', height)\n",
       "\n",
       "        canvas.attr('width', width * mpl.ratio);\n",
       "        canvas.attr('height', height * mpl.ratio);\n",
       "        canvas.attr('style', 'width: ' + width + 'px; height: ' + height + 'px;');\n",
       "\n",
       "        rubberband.attr('width', width);\n",
       "        rubberband.attr('height', height);\n",
       "    }\n",
       "\n",
       "    // Set the figure to an initial 600x600px, this will subsequently be updated\n",
       "    // upon first draw.\n",
       "    this._resize_canvas(600, 600);\n",
       "\n",
       "    // Disable right mouse context menu.\n",
       "    $(this.rubberband_canvas).bind(\"contextmenu\",function(e){\n",
       "        return false;\n",
       "    });\n",
       "\n",
       "    function set_focus () {\n",
       "        canvas.focus();\n",
       "        canvas_div.focus();\n",
       "    }\n",
       "\n",
       "    window.setTimeout(set_focus, 100);\n",
       "}\n",
       "\n",
       "mpl.figure.prototype._init_toolbar = function() {\n",
       "    var fig = this;\n",
       "\n",
       "    var nav_element = $('<div/>')\n",
       "    nav_element.attr('style', 'width: 100%');\n",
       "    this.root.append(nav_element);\n",
       "\n",
       "    // Define a callback function for later on.\n",
       "    function toolbar_event(event) {\n",
       "        return fig.toolbar_button_onclick(event['data']);\n",
       "    }\n",
       "    function toolbar_mouse_event(event) {\n",
       "        return fig.toolbar_button_onmouseover(event['data']);\n",
       "    }\n",
       "\n",
       "    for(var toolbar_ind in mpl.toolbar_items) {\n",
       "        var name = mpl.toolbar_items[toolbar_ind][0];\n",
       "        var tooltip = mpl.toolbar_items[toolbar_ind][1];\n",
       "        var image = mpl.toolbar_items[toolbar_ind][2];\n",
       "        var method_name = mpl.toolbar_items[toolbar_ind][3];\n",
       "\n",
       "        if (!name) {\n",
       "            // put a spacer in here.\n",
       "            continue;\n",
       "        }\n",
       "        var button = $('<button/>');\n",
       "        button.addClass('ui-button ui-widget ui-state-default ui-corner-all ' +\n",
       "                        'ui-button-icon-only');\n",
       "        button.attr('role', 'button');\n",
       "        button.attr('aria-disabled', 'false');\n",
       "        button.click(method_name, toolbar_event);\n",
       "        button.mouseover(tooltip, toolbar_mouse_event);\n",
       "\n",
       "        var icon_img = $('<span/>');\n",
       "        icon_img.addClass('ui-button-icon-primary ui-icon');\n",
       "        icon_img.addClass(image);\n",
       "        icon_img.addClass('ui-corner-all');\n",
       "\n",
       "        var tooltip_span = $('<span/>');\n",
       "        tooltip_span.addClass('ui-button-text');\n",
       "        tooltip_span.html(tooltip);\n",
       "\n",
       "        button.append(icon_img);\n",
       "        button.append(tooltip_span);\n",
       "\n",
       "        nav_element.append(button);\n",
       "    }\n",
       "\n",
       "    var fmt_picker_span = $('<span/>');\n",
       "\n",
       "    var fmt_picker = $('<select/>');\n",
       "    fmt_picker.addClass('mpl-toolbar-option ui-widget ui-widget-content');\n",
       "    fmt_picker_span.append(fmt_picker);\n",
       "    nav_element.append(fmt_picker_span);\n",
       "    this.format_dropdown = fmt_picker[0];\n",
       "\n",
       "    for (var ind in mpl.extensions) {\n",
       "        var fmt = mpl.extensions[ind];\n",
       "        var option = $(\n",
       "            '<option/>', {selected: fmt === mpl.default_extension}).html(fmt);\n",
       "        fmt_picker.append(option)\n",
       "    }\n",
       "\n",
       "    // Add hover states to the ui-buttons\n",
       "    $( \".ui-button\" ).hover(\n",
       "        function() { $(this).addClass(\"ui-state-hover\");},\n",
       "        function() { $(this).removeClass(\"ui-state-hover\");}\n",
       "    );\n",
       "\n",
       "    var status_bar = $('<span class=\"mpl-message\"/>');\n",
       "    nav_element.append(status_bar);\n",
       "    this.message = status_bar[0];\n",
       "}\n",
       "\n",
       "mpl.figure.prototype.request_resize = function(x_pixels, y_pixels) {\n",
       "    // Request matplotlib to resize the figure. Matplotlib will then trigger a resize in the client,\n",
       "    // which will in turn request a refresh of the image.\n",
       "    this.send_message('resize', {'width': x_pixels, 'height': y_pixels});\n",
       "}\n",
       "\n",
       "mpl.figure.prototype.send_message = function(type, properties) {\n",
       "    properties['type'] = type;\n",
       "    properties['figure_id'] = this.id;\n",
       "    this.ws.send(JSON.stringify(properties));\n",
       "}\n",
       "\n",
       "mpl.figure.prototype.send_draw_message = function() {\n",
       "    if (!this.waiting) {\n",
       "        this.waiting = true;\n",
       "        this.ws.send(JSON.stringify({type: \"draw\", figure_id: this.id}));\n",
       "    }\n",
       "}\n",
       "\n",
       "\n",
       "mpl.figure.prototype.handle_save = function(fig, msg) {\n",
       "    var format_dropdown = fig.format_dropdown;\n",
       "    var format = format_dropdown.options[format_dropdown.selectedIndex].value;\n",
       "    fig.ondownload(fig, format);\n",
       "}\n",
       "\n",
       "\n",
       "mpl.figure.prototype.handle_resize = function(fig, msg) {\n",
       "    var size = msg['size'];\n",
       "    if (size[0] != fig.canvas.width || size[1] != fig.canvas.height) {\n",
       "        fig._resize_canvas(size[0], size[1]);\n",
       "        fig.send_message(\"refresh\", {});\n",
       "    };\n",
       "}\n",
       "\n",
       "mpl.figure.prototype.handle_rubberband = function(fig, msg) {\n",
       "    var x0 = msg['x0'] / mpl.ratio;\n",
       "    var y0 = (fig.canvas.height - msg['y0']) / mpl.ratio;\n",
       "    var x1 = msg['x1'] / mpl.ratio;\n",
       "    var y1 = (fig.canvas.height - msg['y1']) / mpl.ratio;\n",
       "    x0 = Math.floor(x0) + 0.5;\n",
       "    y0 = Math.floor(y0) + 0.5;\n",
       "    x1 = Math.floor(x1) + 0.5;\n",
       "    y1 = Math.floor(y1) + 0.5;\n",
       "    var min_x = Math.min(x0, x1);\n",
       "    var min_y = Math.min(y0, y1);\n",
       "    var width = Math.abs(x1 - x0);\n",
       "    var height = Math.abs(y1 - y0);\n",
       "\n",
       "    fig.rubberband_context.clearRect(\n",
       "        0, 0, fig.canvas.width, fig.canvas.height);\n",
       "\n",
       "    fig.rubberband_context.strokeRect(min_x, min_y, width, height);\n",
       "}\n",
       "\n",
       "mpl.figure.prototype.handle_figure_label = function(fig, msg) {\n",
       "    // Updates the figure title.\n",
       "    fig.header.textContent = msg['label'];\n",
       "}\n",
       "\n",
       "mpl.figure.prototype.handle_cursor = function(fig, msg) {\n",
       "    var cursor = msg['cursor'];\n",
       "    switch(cursor)\n",
       "    {\n",
       "    case 0:\n",
       "        cursor = 'pointer';\n",
       "        break;\n",
       "    case 1:\n",
       "        cursor = 'default';\n",
       "        break;\n",
       "    case 2:\n",
       "        cursor = 'crosshair';\n",
       "        break;\n",
       "    case 3:\n",
       "        cursor = 'move';\n",
       "        break;\n",
       "    }\n",
       "    fig.rubberband_canvas.style.cursor = cursor;\n",
       "}\n",
       "\n",
       "mpl.figure.prototype.handle_message = function(fig, msg) {\n",
       "    fig.message.textContent = msg['message'];\n",
       "}\n",
       "\n",
       "mpl.figure.prototype.handle_draw = function(fig, msg) {\n",
       "    // Request the server to send over a new figure.\n",
       "    fig.send_draw_message();\n",
       "}\n",
       "\n",
       "mpl.figure.prototype.handle_image_mode = function(fig, msg) {\n",
       "    fig.image_mode = msg['mode'];\n",
       "}\n",
       "\n",
       "mpl.figure.prototype.updated_canvas_event = function() {\n",
       "    // Called whenever the canvas gets updated.\n",
       "    this.send_message(\"ack\", {});\n",
       "}\n",
       "\n",
       "// A function to construct a web socket function for onmessage handling.\n",
       "// Called in the figure constructor.\n",
       "mpl.figure.prototype._make_on_message_function = function(fig) {\n",
       "    return function socket_on_message(evt) {\n",
       "        if (evt.data instanceof Blob) {\n",
       "            /* FIXME: We get \"Resource interpreted as Image but\n",
       "             * transferred with MIME type text/plain:\" errors on\n",
       "             * Chrome.  But how to set the MIME type?  It doesn't seem\n",
       "             * to be part of the websocket stream */\n",
       "            evt.data.type = \"image/png\";\n",
       "\n",
       "            /* Free the memory for the previous frames */\n",
       "            if (fig.imageObj.src) {\n",
       "                (window.URL || window.webkitURL).revokeObjectURL(\n",
       "                    fig.imageObj.src);\n",
       "            }\n",
       "\n",
       "            fig.imageObj.src = (window.URL || window.webkitURL).createObjectURL(\n",
       "                evt.data);\n",
       "            fig.updated_canvas_event();\n",
       "            fig.waiting = false;\n",
       "            return;\n",
       "        }\n",
       "        else if (typeof evt.data === 'string' && evt.data.slice(0, 21) == \"data:image/png;base64\") {\n",
       "            fig.imageObj.src = evt.data;\n",
       "            fig.updated_canvas_event();\n",
       "            fig.waiting = false;\n",
       "            return;\n",
       "        }\n",
       "\n",
       "        var msg = JSON.parse(evt.data);\n",
       "        var msg_type = msg['type'];\n",
       "\n",
       "        // Call the  \"handle_{type}\" callback, which takes\n",
       "        // the figure and JSON message as its only arguments.\n",
       "        try {\n",
       "            var callback = fig[\"handle_\" + msg_type];\n",
       "        } catch (e) {\n",
       "            console.log(\"No handler for the '\" + msg_type + \"' message type: \", msg);\n",
       "            return;\n",
       "        }\n",
       "\n",
       "        if (callback) {\n",
       "            try {\n",
       "                // console.log(\"Handling '\" + msg_type + \"' message: \", msg);\n",
       "                callback(fig, msg);\n",
       "            } catch (e) {\n",
       "                console.log(\"Exception inside the 'handler_\" + msg_type + \"' callback:\", e, e.stack, msg);\n",
       "            }\n",
       "        }\n",
       "    };\n",
       "}\n",
       "\n",
       "// from http://stackoverflow.com/questions/1114465/getting-mouse-location-in-canvas\n",
       "mpl.findpos = function(e) {\n",
       "    //this section is from http://www.quirksmode.org/js/events_properties.html\n",
       "    var targ;\n",
       "    if (!e)\n",
       "        e = window.event;\n",
       "    if (e.target)\n",
       "        targ = e.target;\n",
       "    else if (e.srcElement)\n",
       "        targ = e.srcElement;\n",
       "    if (targ.nodeType == 3) // defeat Safari bug\n",
       "        targ = targ.parentNode;\n",
       "\n",
       "    // jQuery normalizes the pageX and pageY\n",
       "    // pageX,Y are the mouse positions relative to the document\n",
       "    // offset() returns the position of the element relative to the document\n",
       "    var x = e.pageX - $(targ).offset().left;\n",
       "    var y = e.pageY - $(targ).offset().top;\n",
       "\n",
       "    return {\"x\": x, \"y\": y};\n",
       "};\n",
       "\n",
       "/*\n",
       " * return a copy of an object with only non-object keys\n",
       " * we need this to avoid circular references\n",
       " * http://stackoverflow.com/a/24161582/3208463\n",
       " */\n",
       "function simpleKeys (original) {\n",
       "  return Object.keys(original).reduce(function (obj, key) {\n",
       "    if (typeof original[key] !== 'object')\n",
       "        obj[key] = original[key]\n",
       "    return obj;\n",
       "  }, {});\n",
       "}\n",
       "\n",
       "mpl.figure.prototype.mouse_event = function(event, name) {\n",
       "    var canvas_pos = mpl.findpos(event)\n",
       "\n",
       "    if (name === 'button_press')\n",
       "    {\n",
       "        this.canvas.focus();\n",
       "        this.canvas_div.focus();\n",
       "    }\n",
       "\n",
       "    var x = canvas_pos.x * mpl.ratio;\n",
       "    var y = canvas_pos.y * mpl.ratio;\n",
       "\n",
       "    this.send_message(name, {x: x, y: y, button: event.button,\n",
       "                             step: event.step,\n",
       "                             guiEvent: simpleKeys(event)});\n",
       "\n",
       "    /* This prevents the web browser from automatically changing to\n",
       "     * the text insertion cursor when the button is pressed.  We want\n",
       "     * to control all of the cursor setting manually through the\n",
       "     * 'cursor' event from matplotlib */\n",
       "    event.preventDefault();\n",
       "    return false;\n",
       "}\n",
       "\n",
       "mpl.figure.prototype._key_event_extra = function(event, name) {\n",
       "    // Handle any extra behaviour associated with a key event\n",
       "}\n",
       "\n",
       "mpl.figure.prototype.key_event = function(event, name) {\n",
       "\n",
       "    // Prevent repeat events\n",
       "    if (name == 'key_press')\n",
       "    {\n",
       "        if (event.which === this._key)\n",
       "            return;\n",
       "        else\n",
       "            this._key = event.which;\n",
       "    }\n",
       "    if (name == 'key_release')\n",
       "        this._key = null;\n",
       "\n",
       "    var value = '';\n",
       "    if (event.ctrlKey && event.which != 17)\n",
       "        value += \"ctrl+\";\n",
       "    if (event.altKey && event.which != 18)\n",
       "        value += \"alt+\";\n",
       "    if (event.shiftKey && event.which != 16)\n",
       "        value += \"shift+\";\n",
       "\n",
       "    value += 'k';\n",
       "    value += event.which.toString();\n",
       "\n",
       "    this._key_event_extra(event, name);\n",
       "\n",
       "    this.send_message(name, {key: value,\n",
       "                             guiEvent: simpleKeys(event)});\n",
       "    return false;\n",
       "}\n",
       "\n",
       "mpl.figure.prototype.toolbar_button_onclick = function(name) {\n",
       "    if (name == 'download') {\n",
       "        this.handle_save(this, null);\n",
       "    } else {\n",
       "        this.send_message(\"toolbar_button\", {name: name});\n",
       "    }\n",
       "};\n",
       "\n",
       "mpl.figure.prototype.toolbar_button_onmouseover = function(tooltip) {\n",
       "    this.message.textContent = tooltip;\n",
       "};\n",
       "mpl.toolbar_items = [[\"Home\", \"Reset original view\", \"fa fa-home icon-home\", \"home\"], [\"Back\", \"Back to  previous view\", \"fa fa-arrow-left icon-arrow-left\", \"back\"], [\"Forward\", \"Forward to next view\", \"fa fa-arrow-right icon-arrow-right\", \"forward\"], [\"\", \"\", \"\", \"\"], [\"Pan\", \"Pan axes with left mouse, zoom with right\", \"fa fa-arrows icon-move\", \"pan\"], [\"Zoom\", \"Zoom to rectangle\", \"fa fa-square-o icon-check-empty\", \"zoom\"], [\"\", \"\", \"\", \"\"], [\"Download\", \"Download plot\", \"fa fa-floppy-o icon-save\", \"download\"]];\n",
       "\n",
       "mpl.extensions = [\"eps\", \"jpeg\", \"pdf\", \"png\", \"ps\", \"raw\", \"svg\", \"tif\"];\n",
       "\n",
       "mpl.default_extension = \"png\";var comm_websocket_adapter = function(comm) {\n",
       "    // Create a \"websocket\"-like object which calls the given IPython comm\n",
       "    // object with the appropriate methods. Currently this is a non binary\n",
       "    // socket, so there is still some room for performance tuning.\n",
       "    var ws = {};\n",
       "\n",
       "    ws.close = function() {\n",
       "        comm.close()\n",
       "    };\n",
       "    ws.send = function(m) {\n",
       "        //console.log('sending', m);\n",
       "        comm.send(m);\n",
       "    };\n",
       "    // Register the callback with on_msg.\n",
       "    comm.on_msg(function(msg) {\n",
       "        //console.log('receiving', msg['content']['data'], msg);\n",
       "        // Pass the mpl event to the overriden (by mpl) onmessage function.\n",
       "        ws.onmessage(msg['content']['data'])\n",
       "    });\n",
       "    return ws;\n",
       "}\n",
       "\n",
       "mpl.mpl_figure_comm = function(comm, msg) {\n",
       "    // This is the function which gets called when the mpl process\n",
       "    // starts-up an IPython Comm through the \"matplotlib\" channel.\n",
       "\n",
       "    var id = msg.content.data.id;\n",
       "    // Get hold of the div created by the display call when the Comm\n",
       "    // socket was opened in Python.\n",
       "    var element = $(\"#\" + id);\n",
       "    var ws_proxy = comm_websocket_adapter(comm)\n",
       "\n",
       "    function ondownload(figure, format) {\n",
       "        window.open(figure.imageObj.src);\n",
       "    }\n",
       "\n",
       "    var fig = new mpl.figure(id, ws_proxy,\n",
       "                           ondownload,\n",
       "                           element.get(0));\n",
       "\n",
       "    // Call onopen now - mpl needs it, as it is assuming we've passed it a real\n",
       "    // web socket which is closed, not our websocket->open comm proxy.\n",
       "    ws_proxy.onopen();\n",
       "\n",
       "    fig.parent_element = element.get(0);\n",
       "    fig.cell_info = mpl.find_output_cell(\"<div id='\" + id + \"'></div>\");\n",
       "    if (!fig.cell_info) {\n",
       "        console.error(\"Failed to find cell for figure\", id, fig);\n",
       "        return;\n",
       "    }\n",
       "\n",
       "    var output_index = fig.cell_info[2]\n",
       "    var cell = fig.cell_info[0];\n",
       "\n",
       "};\n",
       "\n",
       "mpl.figure.prototype.handle_close = function(fig, msg) {\n",
       "    var width = fig.canvas.width/mpl.ratio\n",
       "    fig.root.unbind('remove')\n",
       "\n",
       "    // Update the output cell to use the data from the current canvas.\n",
       "    fig.push_to_output();\n",
       "    var dataURL = fig.canvas.toDataURL();\n",
       "    // Re-enable the keyboard manager in IPython - without this line, in FF,\n",
       "    // the notebook keyboard shortcuts fail.\n",
       "    IPython.keyboard_manager.enable()\n",
       "    $(fig.parent_element).html('<img src=\"' + dataURL + '\" width=\"' + width + '\">');\n",
       "    fig.close_ws(fig, msg);\n",
       "}\n",
       "\n",
       "mpl.figure.prototype.close_ws = function(fig, msg){\n",
       "    fig.send_message('closing', msg);\n",
       "    // fig.ws.close()\n",
       "}\n",
       "\n",
       "mpl.figure.prototype.push_to_output = function(remove_interactive) {\n",
       "    // Turn the data on the canvas into data in the output cell.\n",
       "    var width = this.canvas.width/mpl.ratio\n",
       "    var dataURL = this.canvas.toDataURL();\n",
       "    this.cell_info[1]['text/html'] = '<img src=\"' + dataURL + '\" width=\"' + width + '\">';\n",
       "}\n",
       "\n",
       "mpl.figure.prototype.updated_canvas_event = function() {\n",
       "    // Tell IPython that the notebook contents must change.\n",
       "    IPython.notebook.set_dirty(true);\n",
       "    this.send_message(\"ack\", {});\n",
       "    var fig = this;\n",
       "    // Wait a second, then push the new image to the DOM so\n",
       "    // that it is saved nicely (might be nice to debounce this).\n",
       "    setTimeout(function () { fig.push_to_output() }, 1000);\n",
       "}\n",
       "\n",
       "mpl.figure.prototype._init_toolbar = function() {\n",
       "    var fig = this;\n",
       "\n",
       "    var nav_element = $('<div/>')\n",
       "    nav_element.attr('style', 'width: 100%');\n",
       "    this.root.append(nav_element);\n",
       "\n",
       "    // Define a callback function for later on.\n",
       "    function toolbar_event(event) {\n",
       "        return fig.toolbar_button_onclick(event['data']);\n",
       "    }\n",
       "    function toolbar_mouse_event(event) {\n",
       "        return fig.toolbar_button_onmouseover(event['data']);\n",
       "    }\n",
       "\n",
       "    for(var toolbar_ind in mpl.toolbar_items){\n",
       "        var name = mpl.toolbar_items[toolbar_ind][0];\n",
       "        var tooltip = mpl.toolbar_items[toolbar_ind][1];\n",
       "        var image = mpl.toolbar_items[toolbar_ind][2];\n",
       "        var method_name = mpl.toolbar_items[toolbar_ind][3];\n",
       "\n",
       "        if (!name) { continue; };\n",
       "\n",
       "        var button = $('<button class=\"btn btn-default\" href=\"#\" title=\"' + name + '\"><i class=\"fa ' + image + ' fa-lg\"></i></button>');\n",
       "        button.click(method_name, toolbar_event);\n",
       "        button.mouseover(tooltip, toolbar_mouse_event);\n",
       "        nav_element.append(button);\n",
       "    }\n",
       "\n",
       "    // Add the status bar.\n",
       "    var status_bar = $('<span class=\"mpl-message\" style=\"text-align:right; float: right;\"/>');\n",
       "    nav_element.append(status_bar);\n",
       "    this.message = status_bar[0];\n",
       "\n",
       "    // Add the close button to the window.\n",
       "    var buttongrp = $('<div class=\"btn-group inline pull-right\"></div>');\n",
       "    var button = $('<button class=\"btn btn-mini btn-primary\" href=\"#\" title=\"Stop Interaction\"><i class=\"fa fa-power-off icon-remove icon-large\"></i></button>');\n",
       "    button.click(function (evt) { fig.handle_close(fig, {}); } );\n",
       "    button.mouseover('Stop Interaction', toolbar_mouse_event);\n",
       "    buttongrp.append(button);\n",
       "    var titlebar = this.root.find($('.ui-dialog-titlebar'));\n",
       "    titlebar.prepend(buttongrp);\n",
       "}\n",
       "\n",
       "mpl.figure.prototype._root_extra_style = function(el){\n",
       "    var fig = this\n",
       "    el.on(\"remove\", function(){\n",
       "\tfig.close_ws(fig, {});\n",
       "    });\n",
       "}\n",
       "\n",
       "mpl.figure.prototype._canvas_extra_style = function(el){\n",
       "    // this is important to make the div 'focusable\n",
       "    el.attr('tabindex', 0)\n",
       "    // reach out to IPython and tell the keyboard manager to turn it's self\n",
       "    // off when our div gets focus\n",
       "\n",
       "    // location in version 3\n",
       "    if (IPython.notebook.keyboard_manager) {\n",
       "        IPython.notebook.keyboard_manager.register_events(el);\n",
       "    }\n",
       "    else {\n",
       "        // location in version 2\n",
       "        IPython.keyboard_manager.register_events(el);\n",
       "    }\n",
       "\n",
       "}\n",
       "\n",
       "mpl.figure.prototype._key_event_extra = function(event, name) {\n",
       "    var manager = IPython.notebook.keyboard_manager;\n",
       "    if (!manager)\n",
       "        manager = IPython.keyboard_manager;\n",
       "\n",
       "    // Check for shift+enter\n",
       "    if (event.shiftKey && event.which == 13) {\n",
       "        this.canvas_div.blur();\n",
       "        // select the cell after this one\n",
       "        var index = IPython.notebook.find_cell_index(this.cell_info[0]);\n",
       "        IPython.notebook.select(index + 1);\n",
       "    }\n",
       "}\n",
       "\n",
       "mpl.figure.prototype.handle_save = function(fig, msg) {\n",
       "    fig.ondownload(fig, null);\n",
       "}\n",
       "\n",
       "\n",
       "mpl.find_output_cell = function(html_output) {\n",
       "    // Return the cell and output element which can be found *uniquely* in the notebook.\n",
       "    // Note - this is a bit hacky, but it is done because the \"notebook_saving.Notebook\"\n",
       "    // IPython event is triggered only after the cells have been serialised, which for\n",
       "    // our purposes (turning an active figure into a static one), is too late.\n",
       "    var cells = IPython.notebook.get_cells();\n",
       "    var ncells = cells.length;\n",
       "    for (var i=0; i<ncells; i++) {\n",
       "        var cell = cells[i];\n",
       "        if (cell.cell_type === 'code'){\n",
       "            for (var j=0; j<cell.output_area.outputs.length; j++) {\n",
       "                var data = cell.output_area.outputs[j];\n",
       "                if (data.data) {\n",
       "                    // IPython >= 3 moved mimebundle to data attribute of output\n",
       "                    data = data.data;\n",
       "                }\n",
       "                if (data['text/html'] == html_output) {\n",
       "                    return [cell, data, j];\n",
       "                }\n",
       "            }\n",
       "        }\n",
       "    }\n",
       "}\n",
       "\n",
       "// Register the function which deals with the matplotlib target/channel.\n",
       "// The kernel may be null if the page has been refreshed.\n",
       "if (IPython.notebook.kernel != null) {\n",
       "    IPython.notebook.kernel.comm_manager.register_target('matplotlib', mpl.mpl_figure_comm);\n",
       "}\n"
      ],
      "text/plain": [
       "<IPython.core.display.Javascript object>"
      ]
     },
     "metadata": {},
     "output_type": "display_data"
    },
    {
     "data": {
      "text/html": [
       "<img src=\"data:image/png;base64,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\" width=\"639.9999861283738\">"
      ],
      "text/plain": [
       "<IPython.core.display.HTML object>"
      ]
     },
     "metadata": {},
     "output_type": "display_data"
    }
   ],
   "source": [
    "plt.plot([1,2,3],[2,2,1])\n",
    "plt.savefig('line_plot.png')"
   ]
  },
  {
   "cell_type": "markdown",
   "metadata": {},
   "source": [
    "rendering images\n",
    "![title](line_plot.png)"
   ]
  },
  {
   "cell_type": "markdown",
   "metadata": {
    "nbpresent": {
     "id": "c0cd4b20-6eae-4bd1-ac54-f00f10a95f9e"
    }
   },
   "source": [
    "### Converting to other formats"
   ]
  },
  {
   "cell_type": "markdown",
   "metadata": {},
   "source": [
    "* Use GUI `File` tab\n",
    "* Command line via `nbconvert`"
   ]
  },
  {
   "cell_type": "code",
   "execution_count": 35,
   "metadata": {
    "nbpresent": {
     "id": "93fd7ddd-126a-49ec-83dc-32be24811a12"
    }
   },
   "outputs": [
    {
     "name": "stderr",
     "output_type": "stream",
     "text": [
      "[NbConvertApp] Converting notebook CapabilityDemos.ipynb to python\n",
      "[NbConvertApp] Writing 4044 bytes to CapabilityDemos.py\n"
     ]
    }
   ],
   "source": [
    "%%bash\n",
    "jupyter nbconvert CapabilityDemos.ipynb --to python  #--to pdf"
   ]
  },
  {
   "cell_type": "markdown",
   "metadata": {},
   "source": [
    "### Processing kernels"
   ]
  },
  {
   "cell_type": "markdown",
   "metadata": {},
   "source": [
    "* A variety of kernels allow to run Python2/3, Bash, R, Scala: https://github.com/jupyter/jupyter/wiki/Jupyter-kernels\n",
    "* `Kernel` menu"
   ]
  },
  {
   "cell_type": "markdown",
   "metadata": {},
   "source": [
    "* [RNotebook.ipynb](RNotebook.ipynb)"
   ]
  },
  {
   "cell_type": "markdown",
   "metadata": {},
   "source": [
    "### Shell commands"
   ]
  },
  {
   "cell_type": "code",
   "execution_count": 46,
   "metadata": {},
   "outputs": [
    {
     "name": "stdout",
     "output_type": "stream",
     "text": [
      "CapabilityDemos.ipynb   JupyterLab.ipynb        RNotebook.ipynb\r\n",
      "CapabilityDemos.py      OtherApplications.ipynb line_plot.png\r\n",
      "DependA.ipynb           README.md               utils.py\r\n"
     ]
    }
   ],
   "source": [
    "!ls"
   ]
  },
  {
   "cell_type": "markdown",
   "metadata": {},
   "source": [
    "### Notebook magic"
   ]
  },
  {
   "cell_type": "code",
   "execution_count": 37,
   "metadata": {},
   "outputs": [
    {
     "name": "stdout",
     "output_type": "stream",
     "text": [
      "CPU times: user 78.6 ms, sys: 28.2 ms, total: 107 ms\n",
      "Wall time: 111 ms\n"
     ]
    }
   ],
   "source": [
    "%%time\n",
    "#Other magic commands available:\n",
    "a = [i for i in range(1000000)]"
   ]
  },
  {
   "cell_type": "markdown",
   "metadata": {},
   "source": [
    "Default kernel for notebook plus kernel can be switched via magic commands"
   ]
  },
  {
   "cell_type": "markdown",
   "metadata": {},
   "source": [
    "### Executing external code"
   ]
  },
  {
   "cell_type": "code",
   "execution_count": 38,
   "metadata": {},
   "outputs": [],
   "source": [
    "%run utils.py"
   ]
  },
  {
   "cell_type": "code",
   "execution_count": 39,
   "metadata": {},
   "outputs": [
    {
     "name": "stdout",
     "output_type": "stream",
     "text": [
      "executed test_func\n"
     ]
    }
   ],
   "source": [
    "test_func()"
   ]
  },
  {
   "cell_type": "markdown",
   "metadata": {},
   "source": [
    "### Security"
   ]
  },
  {
   "cell_type": "markdown",
   "metadata": {},
   "source": [
    "* Trusted notebooks: signature in notebook metadata ensures safe execution\n",
    "\n",
    "    `jupyter trust mynotebook.ipynb`\n",
    "\n",
    "* Password protection through jupyter_notebook_config.py"
   ]
  },
  {
   "cell_type": "code",
   "execution_count": 40,
   "metadata": {},
   "outputs": [],
   "source": [
    "#from notebook.auth import passwd\n",
    "#passwd()"
   ]
  },
  {
   "cell_type": "markdown",
   "metadata": {},
   "source": [
    "### Workflow"
   ]
  },
  {
   "cell_type": "markdown",
   "metadata": {},
   "source": [
    "* Create notebook/project (github?)\n",
    "* Create reproducable analysis (beware of random numbers)\n",
    "* Add layouts, organization\n",
    "* Publish/Share"
   ]
  },
  {
   "cell_type": "markdown",
   "metadata": {
    "nbpresent": {
     "id": "f8bbadda-057b-4fc3-9520-98e1eb7290bf"
    }
   },
   "source": [
    "## Fancy stuff"
   ]
  },
  {
   "cell_type": "markdown",
   "metadata": {},
   "source": [
    "### Deploying Notebooks"
   ]
  },
  {
   "cell_type": "markdown",
   "metadata": {},
   "source": [
    "* Viewer for notebooks @ https://nbviewer.jupyter.org/\n",
    "* Run your own Jupyter server in the cloud. \n",
    "* Rendering on GitHub"
   ]
  },
  {
   "cell_type": "markdown",
   "metadata": {
    "nbpresent": {
     "id": "142c55e4-630a-4645-a53d-c5d44ce851a7"
    }
   },
   "source": [
    "### Presenting results\n",
    "\n",
    "* https://damianavila.github.io/RISE/\n",
    "* https://github.com/Anaconda-Platform/nbpresent#install"
   ]
  },
  {
   "cell_type": "markdown",
   "metadata": {
    "nbpresent": {
     "id": "b5529776-7f55-4656-91ae-52671d2beb53"
    }
   },
   "source": [
    "## Reading from other Jupyter notebooks"
   ]
  },
  {
   "cell_type": "markdown",
   "metadata": {},
   "source": [
    "Disadvantage: Notebooks are typically separate workflows."
   ]
  },
  {
   "cell_type": "code",
   "execution_count": 41,
   "metadata": {
    "collapsed": true,
    "nbpresent": {
     "id": "28658bff-f3cf-42e4-8d4e-9da450389e86"
    }
   },
   "outputs": [],
   "source": [
    "import json"
   ]
  },
  {
   "cell_type": "code",
   "execution_count": 42,
   "metadata": {
    "collapsed": true,
    "nbpresent": {
     "id": "3756ac33-3fc9-4b28-b4b3-943f5b6c30a2"
    }
   },
   "outputs": [],
   "source": [
    "f1 = open('DependA.ipynb')\n",
    "lines=f1.readlines()\n",
    "f1.close()\n",
    "\n",
    "str_dum = ''\n",
    "for l in lines:\n",
    "    str_dum +=l"
   ]
  },
  {
   "cell_type": "code",
   "execution_count": 43,
   "metadata": {
    "collapsed": true,
    "nbpresent": {
     "id": "bfc8240c-866a-4a93-b06e-53c1cc4337ff"
    }
   },
   "outputs": [],
   "source": [
    "d = json.loads(str_dum)"
   ]
  },
  {
   "cell_type": "code",
   "execution_count": 44,
   "metadata": {
    "nbpresent": {
     "id": "794923a5-16e5-4588-a216-37026cce3281"
    }
   },
   "outputs": [
    {
     "data": {
      "text/plain": [
       "[{'cell_type': 'code',\n",
       "  'execution_count': 5,\n",
       "  'metadata': {},\n",
       "  'outputs': [],\n",
       "  'source': ['time = 3. #s\\n', 'distance = 5. #m']},\n",
       " {'cell_type': 'code',\n",
       "  'execution_count': 6,\n",
       "  'metadata': {},\n",
       "  'outputs': [{'data': {'text/plain': ['1.6666666666666667']},\n",
       "    'execution_count': 6,\n",
       "    'metadata': {},\n",
       "    'output_type': 'execute_result'}],\n",
       "  'source': ['velocity = distance/time #m/s\\n', 'velocity']},\n",
       " {'cell_type': 'code',\n",
       "  'execution_count': None,\n",
       "  'metadata': {},\n",
       "  'outputs': [],\n",
       "  'source': []}]"
      ]
     },
     "execution_count": 44,
     "metadata": {},
     "output_type": "execute_result"
    }
   ],
   "source": [
    "d['cells']"
   ]
  },
  {
   "cell_type": "code",
   "execution_count": 45,
   "metadata": {
    "nbpresent": {
     "id": "060dd7b0-0ac5-4e7e-ac32-2a449bedfa6a"
    }
   },
   "outputs": [
    {
     "name": "stdout",
     "output_type": "stream",
     "text": [
      "['1.6666666666666667']\n"
     ]
    }
   ],
   "source": [
    "for cell in d['cells']:\n",
    "    if len(cell['source'])>0:\n",
    "        if 'velocity' in cell['source'][-1]:\n",
    "            print(cell['outputs'][0]['data']['text/plain'])"
   ]
  },
  {
   "cell_type": "markdown",
   "metadata": {
    "nbpresent": {
     "id": "ff15b8e6-788a-4452-a095-605eab64a72e"
    }
   },
   "source": [
    "## Adding other content"
   ]
  },
  {
   "cell_type": "code",
   "execution_count": 9,
   "metadata": {
    "collapsed": true,
    "nbpresent": {
     "id": "a0889a88-b57b-4f4f-a83d-57f071c36414"
    }
   },
   "outputs": [],
   "source": [
    "from IPython.display import YouTubeVideo"
   ]
  },
  {
   "cell_type": "code",
   "execution_count": 11,
   "metadata": {},
   "outputs": [
    {
     "data": {
      "image/jpeg": "[encoded data removed]",
      "text/html": [
       "\n",
       "        <iframe\n",
       "            width=\"400\"\n",
       "            height=\"300\"\n",
       "            src=\"https://www.youtube.com/embed/Iuj9vLOvVJo\"\n",
       "            frameborder=\"0\"\n",
       "            allowfullscreen\n",
       "        ></iframe>\n",
       "        "
      ],
      "text/plain": [
       "<IPython.lib.display.YouTubeVideo at 0x1073964a8>"
      ]
     },
     "execution_count": 11,
     "metadata": {},
     "output_type": "execute_result"
    }
   ],
   "source": [
    "#https://www.youtube.com/watch?v=Iuj9vLOvVJo\n",
    "YouTubeVideo(\"Iuj9vLOvVJo\")"
   ]
  },
  {
   "cell_type": "markdown",
   "metadata": {},
   "source": [
    "### Widgets"
   ]
  },
  {
   "cell_type": "markdown",
   "metadata": {},
   "source": [
    "* Interactive widgets (buttons, levels etc.) at http://jupyter.org/widgets\n",
    "* Easy integration with existing code, e.g. functions"
   ]
  },
  {
   "cell_type": "code",
   "execution_count": 24,
   "metadata": {},
   "outputs": [
    {
     "data": {
      "application/vnd.jupyter.widget-view+json": {
       "model_id": "1db654a3596e49739913671953a6a3c9",
       "version_major": 2,
       "version_minor": 0
      },
      "text/html": [
       "<p>Failed to display Jupyter Widget of type <code>interactive</code>.</p>\n",
       "<p>\n",
       "  If you're reading this message in the Jupyter Notebook or JupyterLab Notebook, it may mean\n",
       "  that the widgets JavaScript is still loading. If this message persists, it\n",
       "  likely means that the widgets JavaScript library is either not installed or\n",
       "  not enabled. See the <a href=\"https://ipywidgets.readthedocs.io/en/stable/user_install.html\">Jupyter\n",
       "  Widgets Documentation</a> for setup instructions.\n",
       "</p>\n",
       "<p>\n",
       "  If you're reading this message in another frontend (for example, a static\n",
       "  rendering on GitHub or <a href=\"https://nbviewer.jupyter.org/\">NBViewer</a>),\n",
       "  it may mean that your frontend doesn't currently support widgets.\n",
       "</p>\n"
      ],
      "text/plain": [
       "interactive(children=(Text(value='Hello World ', description='x'), Output()), _dom_classes=('widget-interact',))"
      ]
     },
     "metadata": {},
     "output_type": "display_data"
    }
   ],
   "source": [
    "from ipywidgets import interactive\n",
    "def myfunction(x):\n",
    "    return x\n",
    "w = interactive(myfunction, x= \"Hello World \");\n",
    "from IPython.display import display\n",
    "display(w)"
   ]
  },
  {
   "cell_type": "markdown",
   "metadata": {},
   "source": [
    "* Building complex widgets: http://nugrid.github.io/NuPyCEE/webinterface.html"
   ]
  }
 ],
 "metadata": {
  "celltoolbar": "Slideshow",
  "kernelspec": {
   "display_name": "Python [conda env:py36]",
   "language": "python",
   "name": "conda-env-py36-py"
  },
  "language_info": {
   "codemirror_mode": {
    "name": "ipython",
    "version": 3
   },
   "file_extension": ".py",
   "mimetype": "text/x-python",
   "name": "python",
   "nbconvert_exporter": "python",
   "pygments_lexer": "ipython3",
   "version": "3.6.1"
  },
  "nbpresent": {
   "slides": {
    "4f5be389-e617-442a-81b1-3d26ae3e30e5": {
     "id": "4f5be389-e617-442a-81b1-3d26ae3e30e5",
     "prev": "9998f616-36a3-4ee1-8ebd-f196820444a6",
     "regions": {
      "4758b32a-5458-485f-8ef2-661c1052bb12": {
       "attrs": {
        "height": 0.47550771424677235,
        "width": 0.8,
        "x": 0.1,
        "y": 0.1
       },
       "content": {
        "cell": "184f26db-825c-4999-812d-a0a3093d940e",
        "part": "source"
       },
       "id": "4758b32a-5458-485f-8ef2-661c1052bb12"
      },
      "c4a2c4c4-f378-40c7-9bc7-c3fc7f4c3954": {
       "attrs": {
        "height": 0.3163288571792454,
        "width": 0.8006457679824669,
        "x": 0.1,
        "y": 0.5836711428207545
       },
       "id": "c4a2c4c4-f378-40c7-9bc7-c3fc7f4c3954"
      }
     }
    },
    "9998f616-36a3-4ee1-8ebd-f196820444a6": {
     "id": "9998f616-36a3-4ee1-8ebd-f196820444a6",
     "prev": null,
     "regions": {
      "3d299153-ea93-4413-9170-f8def072ad1d": {
       "attrs": {
        "height": 0.8487069900401905,
        "width": 0.5527772458199158,
        "x": 0.41402341692921435,
        "y": 0.050932076523258776
       },
       "content": {
        "cell": "db47c4ab-e0a1-45e3-8270-c624511e651a",
        "part": "whole"
       },
       "id": "3d299153-ea93-4413-9170-f8def072ad1d"
      },
      "487a6ae6-532c-42c1-9db8-99b444a854d3": {
       "attrs": {
        "height": 0.5687999131673516,
        "width": 0.26717360602593654,
        "x": 0.1,
        "y": 0.3312000868326485
       },
       "content": {
        "cell": "08f3d8c6-0c0a-42d9-b1fb-33b8e8188bf1",
        "part": "source"
       },
       "id": "487a6ae6-532c-42c1-9db8-99b444a854d3"
      },
      "7abbf79d-2005-4646-81a3-75f3f67f8291": {
       "attrs": {
        "height": 0.0994406414916034,
        "width": 0.29495128533264126,
        "x": 0.09494951285332644,
        "y": 0.03041550186090635
       },
       "content": {
        "cell": "cb56ab0c-8f1d-4826-bce5-3c1690a9848a",
        "part": "source"
       },
       "id": "7abbf79d-2005-4646-81a3-75f3f67f8291"
      },
      "d531334b-1512-4e3b-9922-b62220bffd2d": {
       "attrs": {
        "height": 0.10415512992418947,
        "width": 0.2974765289059781,
        "x": 0.09242426927998965,
        "y": 0.14713788859832216
       },
       "content": {
        "cell": "9137455d-c99d-4bfc-a84d-af6f8324c8d2",
        "part": "source"
       },
       "id": "d531334b-1512-4e3b-9922-b62220bffd2d"
      }
     },
     "theme": null
    },
    "d5bef136-7301-4367-841b-3ff5a7144829": {
     "id": "d5bef136-7301-4367-841b-3ff5a7144829",
     "prev": "4f5be389-e617-442a-81b1-3d26ae3e30e5",
     "regions": {
      "5e4cf40e-40ac-483c-aecd-8e9abca344ae": {
       "attrs": {
        "height": 0.47550771424677235,
        "width": 0.8,
        "x": 0.1,
        "y": 0.1
       },
       "content": {
        "cell": "142c55e4-630a-4645-a53d-c5d44ce851a7",
        "part": "source"
       },
       "id": "5e4cf40e-40ac-483c-aecd-8e9abca344ae"
      },
      "fadee0ca-f2ea-4c2c-863a-370f28522cf8": {
       "attrs": {
        "height": 0.3163288571792454,
        "width": 0.8006457679824669,
        "x": 0.1,
        "y": 0.5836711428207545
       },
       "content": null,
       "id": "fadee0ca-f2ea-4c2c-863a-370f28522cf8"
      }
     }
    }
   },
   "themes": {
    "default": "d517e9c5-1a3f-4571-93c1-7bc4285a0365",
    "theme": {}
   }
  },
  "toc": {
   "colors": {
    "hover_highlight": "#DAA520",
    "navigate_num": "#000000",
    "navigate_text": "#333333",
    "running_highlight": "#FF0000",
    "selected_highlight": "#FFD700",
    "sidebar_border": "#EEEEEE",
    "wrapper_background": "#FFFFFF"
   },
   "moveMenuLeft": true,
   "nav_menu": {
    "height": "121px",
    "width": "252px"
   },
   "navigate_menu": true,
   "number_sections": true,
   "sideBar": true,
   "threshold": 4,
   "toc_cell": true,
   "toc_section_display": "block",
   "toc_window_display": false,
   "widenNotebook": false
  }
 },
 "nbformat": 4,
 "nbformat_minor": 2
}
