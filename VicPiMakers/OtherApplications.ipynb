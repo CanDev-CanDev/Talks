{
 "cells": [
  {
   "cell_type": "markdown",
   "metadata": {},
   "source": [
    "# <center> Other Applications </center>\n",
    "<center> Christian Ritter </center>\n",
    "<center> critter@uvic.ca </center>\n",
    "\n",
    "<center> Notebooks @ https://github.com/chritter/Talks/blob/master/VicPiMakers </center> "
   ]
  },
  {
   "cell_type": "markdown",
   "metadata": {},
   "source": [
    "## Jupyter lab"
   ]
  },
  {
   "cell_type": "markdown",
   "metadata": {},
   "source": [
    "* (Easy) launch with `juypyter lab`\n",
    "* [JupyterLab.ipynb](JupyterLab.ipynb)"
   ]
  },
  {
   "cell_type": "markdown",
   "metadata": {},
   "source": [
    "## Jupyter Hub"
   ]
  },
  {
   "cell_type": "markdown",
   "metadata": {},
   "source": [
    "* Addresses problem of multi-user or collaborative work\n",
    "* Creates a API for user login\n",
    "* Separate sessions for each user"
   ]
  },
  {
   "cell_type": "markdown",
   "metadata": {},
   "source": [
    "Example of Jupter Hub from the Computational Stellar Astrophysics group at the University of Victoria \n",
    "\n",
    "https://206-12-97-9.cloud.computecanada.ca/hub/login"
   ]
  },
  {
   "cell_type": "markdown",
   "metadata": {},
   "source": [
    "## CyberLaboratories"
   ]
  },
  {
   "cell_type": "markdown",
   "metadata": {},
   "source": [
    "* Published: https://arxiv.org/abs/1802.02233\n",
    "* Open-source https://github.com/cyberlaboratories/cyberhubs\n",
    "* Combining Jupyter notebooks, Jupyter lab & Jupyterhub\n"
   ]
  },
  {
   "cell_type": "markdown",
   "metadata": {},
   "source": [
    "## Other Applications worth checking out"
   ]
  },
  {
   "cell_type": "markdown",
   "metadata": {},
   "source": [
    "* https://colab.research.google.com\n",
    "* IBM Data Science (Watson), AWS, GC,  provide Jupyter support"
   ]
  }
 ],
 "metadata": {
  "kernelspec": {
   "display_name": "Python [conda env:py36]",
   "language": "python",
   "name": "conda-env-py36-py"
  },
  "language_info": {
   "codemirror_mode": {
    "name": "ipython",
    "version": 3
   },
   "file_extension": ".py",
   "mimetype": "text/x-python",
   "name": "python",
   "nbconvert_exporter": "python",
   "pygments_lexer": "ipython3",
   "version": "3.6.1"
  }
 },
 "nbformat": 4,
 "nbformat_minor": 2
}
