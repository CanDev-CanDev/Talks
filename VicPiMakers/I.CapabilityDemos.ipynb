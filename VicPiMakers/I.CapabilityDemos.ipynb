{
 "cells": [
  {
   "cell_type": "markdown",
   "metadata": {
    "nbpresent": {
     "id": "184f26db-825c-4999-812d-a0a3093d940e"
    },
    "slideshow": {
     "slide_type": "-"
    }
   },
   "source": [
    "# <center> Jupyter Notebooks in Action </center>\n",
    "<center> Christian Ritter </center>\n",
    "<center> critter@uvic.ca </center>\n",
    "\n",
    "<center> Notebooks @ https://github.com/chritter/Talks/blob/master/VicPiMakers </center> \n"
   ]
  },
  {
   "cell_type": "markdown",
   "metadata": {},
   "source": [
    "## Setting up Jupyter"
   ]
  },
  {
   "cell_type": "markdown",
   "metadata": {},
   "source": [
    "* Notebook server start with `jupyter notebook`\n",
    "* Jupyter Notebook App starts dashboard\n",
    "* Port of choice \n",
    "* separate configuration files\n",
    "* GUI through browser\n",
    "* Notebooks are in JSON format and human readable (metadata editable)\n",
    "* Configuration: jupyter_notebook_config.py\n",
    "* Support:\n",
    "    * Chrome\n",
    "    * Safari\n",
    "    * Firefox\n"
   ]
  },
  {
   "cell_type": "code",
   "execution_count": 2,
   "metadata": {},
   "outputs": [
    {
     "name": "stdout",
     "output_type": "stream",
     "text": [
      "{\n",
      "  \"shell_port\": 57169,\n",
      "  \"iopub_port\": 57170,\n",
      "  \"stdin_port\": 57171,\n",
      "  \"control_port\": 57172,\n",
      "  \"hb_port\": 57173,\n",
      "  \"ip\": \"127.0.0.1\",\n",
      "  \"key\": \"7129c1b9-3861abc347f06587e0025eef\",\n",
      "  \"transport\": \"tcp\",\n",
      "  \"signature_scheme\": \"hmac-sha256\",\n",
      "  \"kernel_name\": \"\"\n",
      "}\n",
      "\n",
      "Paste the above JSON into a file, and connect with:\n",
      "    $> jupyter <app> --existing <file>\n",
      "or, if you are local, you can connect with just:\n",
      "    $> jupyter <app> --existing kernel-2b1ffd81-ea8d-4ffa-b20e-b1bb863c5d21.json\n",
      "or even just:\n",
      "    $> jupyter <app> --existing\n",
      "if this is the most recent Jupyter kernel you have started.\n"
     ]
    }
   ],
   "source": [
    "%connect_info"
   ]
  },
  {
   "cell_type": "markdown",
   "metadata": {
    "nbpresent": {
     "id": "cb56ab0c-8f1d-4826-bce5-3c1690a9848a"
    },
    "slideshow": {
     "slide_type": "slide"
    }
   },
   "source": [
    "## Standard capabilities"
   ]
  },
  {
   "cell_type": "markdown",
   "metadata": {
    "nbpresent": {
     "id": "9137455d-c99d-4bfc-a84d-af6f8324c8d2"
    }
   },
   "source": [
    "### Basic Python"
   ]
  },
  {
   "cell_type": "markdown",
   "metadata": {},
   "source": [
    "* Only execution of one cell at a time\n",
    "* Serves as analysis, analytics platform but not for software development\n",
    "* Basic cell types are code cells and markdown cells "
   ]
  },
  {
   "cell_type": "code",
   "execution_count": 3,
   "metadata": {},
   "outputs": [
    {
     "name": "stdout",
     "output_type": "stream",
     "text": [
      "3\n"
     ]
    }
   ],
   "source": [
    "a = 3\n",
    "print(a)"
   ]
  },
  {
   "cell_type": "markdown",
   "metadata": {},
   "source": [
    "Standard markdown Markdown\n",
    "* Test\n",
    "`Test`\n",
    "***Test***\n",
    "\n",
    "and Latex\n",
    "\n",
    "$\\int_0^3 x^2 dx$"
   ]
  },
  {
   "cell_type": "code",
   "execution_count": 4,
   "metadata": {},
   "outputs": [
    {
     "data": {
      "text/html": [
       "<div>\n",
       "<style>\n",
       "    .dataframe thead tr:only-child th {\n",
       "        text-align: right;\n",
       "    }\n",
       "\n",
       "    .dataframe thead th {\n",
       "        text-align: left;\n",
       "    }\n",
       "\n",
       "    .dataframe tbody tr th {\n",
       "        vertical-align: top;\n",
       "    }\n",
       "</style>\n",
       "<table border=\"1\" class=\"dataframe\">\n",
       "  <thead>\n",
       "    <tr style=\"text-align: right;\">\n",
       "      <th></th>\n",
       "      <th>aa</th>\n",
       "      <th>bb</th>\n",
       "    </tr>\n",
       "  </thead>\n",
       "  <tbody>\n",
       "    <tr>\n",
       "      <th>0</th>\n",
       "      <td>1</td>\n",
       "      <td>2</td>\n",
       "    </tr>\n",
       "    <tr>\n",
       "      <th>1</th>\n",
       "      <td>2</td>\n",
       "      <td>3</td>\n",
       "    </tr>\n",
       "    <tr>\n",
       "      <th>2</th>\n",
       "      <td>3</td>\n",
       "      <td>4</td>\n",
       "    </tr>\n",
       "  </tbody>\n",
       "</table>\n",
       "</div>"
      ],
      "text/plain": [
       "   aa  bb\n",
       "0   1   2\n",
       "1   2   3\n",
       "2   3   4"
      ]
     },
     "execution_count": 4,
     "metadata": {},
     "output_type": "execute_result"
    }
   ],
   "source": [
    "import pandas as pd\n",
    "pd.DataFrame({'aa':[1,2,3],'bb':[2,3,4]})"
   ]
  },
  {
   "cell_type": "markdown",
   "metadata": {},
   "source": [
    "### Plotting"
   ]
  },
  {
   "cell_type": "markdown",
   "metadata": {
    "nbpresent": {
     "id": "08f3d8c6-0c0a-42d9-b1fb-33b8e8188bf1"
    }
   },
   "source": [
    "* Supports standard plotting capabilities of Python\n",
    "* Supports different backends such as the interactive `nbagg` backend"
   ]
  },
  {
   "cell_type": "code",
   "execution_count": 5,
   "metadata": {
    "collapsed": true
   },
   "outputs": [],
   "source": [
    "import matplotlib.pyplot as plt\n",
    "%matplotlib nbagg"
   ]
  },
  {
   "cell_type": "code",
   "execution_count": 6,
   "metadata": {
    "nbpresent": {
     "id": "db47c4ab-e0a1-45e3-8270-c624511e651a"
    },
    "slideshow": {
     "slide_type": "-"
    }
   },
   "outputs": [
    {
     "data": {
      "application/javascript": [
       "/* Put everything inside the global mpl namespace */\n",
       "window.mpl = {};\n",
       "\n",
       "\n",
       "mpl.get_websocket_type = function() {\n",
       "    if (typeof(WebSocket) !== 'undefined') {\n",
       "        return WebSocket;\n",
       "    } else if (typeof(MozWebSocket) !== 'undefined') {\n",
       "        return MozWebSocket;\n",
       "    } else {\n",
       "        alert('Your browser does not have WebSocket support.' +\n",
       "              'Please try Chrome, Safari or Firefox ≥ 6. ' +\n",
       "              'Firefox 4 and 5 are also supported but you ' +\n",
       "              'have to enable WebSockets in about:config.');\n",
       "    };\n",
       "}\n",
       "\n",
       "mpl.figure = function(figure_id, websocket, ondownload, parent_element) {\n",
       "    this.id = figure_id;\n",
       "\n",
       "    this.ws = websocket;\n",
       "\n",
       "    this.supports_binary = (this.ws.binaryType != undefined);\n",
       "\n",
       "    if (!this.supports_binary) {\n",
       "        var warnings = document.getElementById(\"mpl-warnings\");\n",
       "        if (warnings) {\n",
       "            warnings.style.display = 'block';\n",
       "            warnings.textContent = (\n",
       "                \"This browser does not support binary websocket messages. \" +\n",
       "                    \"Performance may be slow.\");\n",
       "        }\n",
       "    }\n",
       "\n",
       "    this.imageObj = new Image();\n",
       "\n",
       "    this.context = undefined;\n",
       "    this.message = undefined;\n",
       "    this.canvas = undefined;\n",
       "    this.rubberband_canvas = undefined;\n",
       "    this.rubberband_context = undefined;\n",
       "    this.format_dropdown = undefined;\n",
       "\n",
       "    this.image_mode = 'full';\n",
       "\n",
       "    this.root = $('<div/>');\n",
       "    this._root_extra_style(this.root)\n",
       "    this.root.attr('style', 'display: inline-block');\n",
       "\n",
       "    $(parent_element).append(this.root);\n",
       "\n",
       "    this._init_header(this);\n",
       "    this._init_canvas(this);\n",
       "    this._init_toolbar(this);\n",
       "\n",
       "    var fig = this;\n",
       "\n",
       "    this.waiting = false;\n",
       "\n",
       "    this.ws.onopen =  function () {\n",
       "            fig.send_message(\"supports_binary\", {value: fig.supports_binary});\n",
       "            fig.send_message(\"send_image_mode\", {});\n",
       "            if (mpl.ratio != 1) {\n",
       "                fig.send_message(\"set_dpi_ratio\", {'dpi_ratio': mpl.ratio});\n",
       "            }\n",
       "            fig.send_message(\"refresh\", {});\n",
       "        }\n",
       "\n",
       "    this.imageObj.onload = function() {\n",
       "            if (fig.image_mode == 'full') {\n",
       "                // Full images could contain transparency (where diff images\n",
       "                // almost always do), so we need to clear the canvas so that\n",
       "                // there is no ghosting.\n",
       "                fig.context.clearRect(0, 0, fig.canvas.width, fig.canvas.height);\n",
       "            }\n",
       "            fig.context.drawImage(fig.imageObj, 0, 0);\n",
       "        };\n",
       "\n",
       "    this.imageObj.onunload = function() {\n",
       "        this.ws.close();\n",
       "    }\n",
       "\n",
       "    this.ws.onmessage = this._make_on_message_function(this);\n",
       "\n",
       "    this.ondownload = ondownload;\n",
       "}\n",
       "\n",
       "mpl.figure.prototype._init_header = function() {\n",
       "    var titlebar = $(\n",
       "        '<div class=\"ui-dialog-titlebar ui-widget-header ui-corner-all ' +\n",
       "        'ui-helper-clearfix\"/>');\n",
       "    var titletext = $(\n",
       "        '<div class=\"ui-dialog-title\" style=\"width: 100%; ' +\n",
       "        'text-align: center; padding: 3px;\"/>');\n",
       "    titlebar.append(titletext)\n",
       "    this.root.append(titlebar);\n",
       "    this.header = titletext[0];\n",
       "}\n",
       "\n",
       "\n",
       "\n",
       "mpl.figure.prototype._canvas_extra_style = function(canvas_div) {\n",
       "\n",
       "}\n",
       "\n",
       "\n",
       "mpl.figure.prototype._root_extra_style = function(canvas_div) {\n",
       "\n",
       "}\n",
       "\n",
       "mpl.figure.prototype._init_canvas = function() {\n",
       "    var fig = this;\n",
       "\n",
       "    var canvas_div = $('<div/>');\n",
       "\n",
       "    canvas_div.attr('style', 'position: relative; clear: both; outline: 0');\n",
       "\n",
       "    function canvas_keyboard_event(event) {\n",
       "        return fig.key_event(event, event['data']);\n",
       "    }\n",
       "\n",
       "    canvas_div.keydown('key_press', canvas_keyboard_event);\n",
       "    canvas_div.keyup('key_release', canvas_keyboard_event);\n",
       "    this.canvas_div = canvas_div\n",
       "    this._canvas_extra_style(canvas_div)\n",
       "    this.root.append(canvas_div);\n",
       "\n",
       "    var canvas = $('<canvas/>');\n",
       "    canvas.addClass('mpl-canvas');\n",
       "    canvas.attr('style', \"left: 0; top: 0; z-index: 0; outline: 0\")\n",
       "\n",
       "    this.canvas = canvas[0];\n",
       "    this.context = canvas[0].getContext(\"2d\");\n",
       "\n",
       "    var backingStore = this.context.backingStorePixelRatio ||\n",
       "\tthis.context.webkitBackingStorePixelRatio ||\n",
       "\tthis.context.mozBackingStorePixelRatio ||\n",
       "\tthis.context.msBackingStorePixelRatio ||\n",
       "\tthis.context.oBackingStorePixelRatio ||\n",
       "\tthis.context.backingStorePixelRatio || 1;\n",
       "\n",
       "    mpl.ratio = (window.devicePixelRatio || 1) / backingStore;\n",
       "\n",
       "    var rubberband = $('<canvas/>');\n",
       "    rubberband.attr('style', \"position: absolute; left: 0; top: 0; z-index: 1;\")\n",
       "\n",
       "    var pass_mouse_events = true;\n",
       "\n",
       "    canvas_div.resizable({\n",
       "        start: function(event, ui) {\n",
       "            pass_mouse_events = false;\n",
       "        },\n",
       "        resize: function(event, ui) {\n",
       "            fig.request_resize(ui.size.width, ui.size.height);\n",
       "        },\n",
       "        stop: function(event, ui) {\n",
       "            pass_mouse_events = true;\n",
       "            fig.request_resize(ui.size.width, ui.size.height);\n",
       "        },\n",
       "    });\n",
       "\n",
       "    function mouse_event_fn(event) {\n",
       "        if (pass_mouse_events)\n",
       "            return fig.mouse_event(event, event['data']);\n",
       "    }\n",
       "\n",
       "    rubberband.mousedown('button_press', mouse_event_fn);\n",
       "    rubberband.mouseup('button_release', mouse_event_fn);\n",
       "    // Throttle sequential mouse events to 1 every 20ms.\n",
       "    rubberband.mousemove('motion_notify', mouse_event_fn);\n",
       "\n",
       "    rubberband.mouseenter('figure_enter', mouse_event_fn);\n",
       "    rubberband.mouseleave('figure_leave', mouse_event_fn);\n",
       "\n",
       "    canvas_div.on(\"wheel\", function (event) {\n",
       "        event = event.originalEvent;\n",
       "        event['data'] = 'scroll'\n",
       "        if (event.deltaY < 0) {\n",
       "            event.step = 1;\n",
       "        } else {\n",
       "            event.step = -1;\n",
       "        }\n",
       "        mouse_event_fn(event);\n",
       "    });\n",
       "\n",
       "    canvas_div.append(canvas);\n",
       "    canvas_div.append(rubberband);\n",
       "\n",
       "    this.rubberband = rubberband;\n",
       "    this.rubberband_canvas = rubberband[0];\n",
       "    this.rubberband_context = rubberband[0].getContext(\"2d\");\n",
       "    this.rubberband_context.strokeStyle = \"#000000\";\n",
       "\n",
       "    this._resize_canvas = function(width, height) {\n",
       "        // Keep the size of the canvas, canvas container, and rubber band\n",
       "        // canvas in synch.\n",
       "        canvas_div.css('width', width)\n",
       "        canvas_div.css('height', height)\n",
       "\n",
       "        canvas.attr('width', width * mpl.ratio);\n",
       "        canvas.attr('height', height * mpl.ratio);\n",
       "        canvas.attr('style', 'width: ' + width + 'px; height: ' + height + 'px;');\n",
       "\n",
       "        rubberband.attr('width', width);\n",
       "        rubberband.attr('height', height);\n",
       "    }\n",
       "\n",
       "    // Set the figure to an initial 600x600px, this will subsequently be updated\n",
       "    // upon first draw.\n",
       "    this._resize_canvas(600, 600);\n",
       "\n",
       "    // Disable right mouse context menu.\n",
       "    $(this.rubberband_canvas).bind(\"contextmenu\",function(e){\n",
       "        return false;\n",
       "    });\n",
       "\n",
       "    function set_focus () {\n",
       "        canvas.focus();\n",
       "        canvas_div.focus();\n",
       "    }\n",
       "\n",
       "    window.setTimeout(set_focus, 100);\n",
       "}\n",
       "\n",
       "mpl.figure.prototype._init_toolbar = function() {\n",
       "    var fig = this;\n",
       "\n",
       "    var nav_element = $('<div/>')\n",
       "    nav_element.attr('style', 'width: 100%');\n",
       "    this.root.append(nav_element);\n",
       "\n",
       "    // Define a callback function for later on.\n",
       "    function toolbar_event(event) {\n",
       "        return fig.toolbar_button_onclick(event['data']);\n",
       "    }\n",
       "    function toolbar_mouse_event(event) {\n",
       "        return fig.toolbar_button_onmouseover(event['data']);\n",
       "    }\n",
       "\n",
       "    for(var toolbar_ind in mpl.toolbar_items) {\n",
       "        var name = mpl.toolbar_items[toolbar_ind][0];\n",
       "        var tooltip = mpl.toolbar_items[toolbar_ind][1];\n",
       "        var image = mpl.toolbar_items[toolbar_ind][2];\n",
       "        var method_name = mpl.toolbar_items[toolbar_ind][3];\n",
       "\n",
       "        if (!name) {\n",
       "            // put a spacer in here.\n",
       "            continue;\n",
       "        }\n",
       "        var button = $('<button/>');\n",
       "        button.addClass('ui-button ui-widget ui-state-default ui-corner-all ' +\n",
       "                        'ui-button-icon-only');\n",
       "        button.attr('role', 'button');\n",
       "        button.attr('aria-disabled', 'false');\n",
       "        button.click(method_name, toolbar_event);\n",
       "        button.mouseover(tooltip, toolbar_mouse_event);\n",
       "\n",
       "        var icon_img = $('<span/>');\n",
       "        icon_img.addClass('ui-button-icon-primary ui-icon');\n",
       "        icon_img.addClass(image);\n",
       "        icon_img.addClass('ui-corner-all');\n",
       "\n",
       "        var tooltip_span = $('<span/>');\n",
       "        tooltip_span.addClass('ui-button-text');\n",
       "        tooltip_span.html(tooltip);\n",
       "\n",
       "        button.append(icon_img);\n",
       "        button.append(tooltip_span);\n",
       "\n",
       "        nav_element.append(button);\n",
       "    }\n",
       "\n",
       "    var fmt_picker_span = $('<span/>');\n",
       "\n",
       "    var fmt_picker = $('<select/>');\n",
       "    fmt_picker.addClass('mpl-toolbar-option ui-widget ui-widget-content');\n",
       "    fmt_picker_span.append(fmt_picker);\n",
       "    nav_element.append(fmt_picker_span);\n",
       "    this.format_dropdown = fmt_picker[0];\n",
       "\n",
       "    for (var ind in mpl.extensions) {\n",
       "        var fmt = mpl.extensions[ind];\n",
       "        var option = $(\n",
       "            '<option/>', {selected: fmt === mpl.default_extension}).html(fmt);\n",
       "        fmt_picker.append(option)\n",
       "    }\n",
       "\n",
       "    // Add hover states to the ui-buttons\n",
       "    $( \".ui-button\" ).hover(\n",
       "        function() { $(this).addClass(\"ui-state-hover\");},\n",
       "        function() { $(this).removeClass(\"ui-state-hover\");}\n",
       "    );\n",
       "\n",
       "    var status_bar = $('<span class=\"mpl-message\"/>');\n",
       "    nav_element.append(status_bar);\n",
       "    this.message = status_bar[0];\n",
       "}\n",
       "\n",
       "mpl.figure.prototype.request_resize = function(x_pixels, y_pixels) {\n",
       "    // Request matplotlib to resize the figure. Matplotlib will then trigger a resize in the client,\n",
       "    // which will in turn request a refresh of the image.\n",
       "    this.send_message('resize', {'width': x_pixels, 'height': y_pixels});\n",
       "}\n",
       "\n",
       "mpl.figure.prototype.send_message = function(type, properties) {\n",
       "    properties['type'] = type;\n",
       "    properties['figure_id'] = this.id;\n",
       "    this.ws.send(JSON.stringify(properties));\n",
       "}\n",
       "\n",
       "mpl.figure.prototype.send_draw_message = function() {\n",
       "    if (!this.waiting) {\n",
       "        this.waiting = true;\n",
       "        this.ws.send(JSON.stringify({type: \"draw\", figure_id: this.id}));\n",
       "    }\n",
       "}\n",
       "\n",
       "\n",
       "mpl.figure.prototype.handle_save = function(fig, msg) {\n",
       "    var format_dropdown = fig.format_dropdown;\n",
       "    var format = format_dropdown.options[format_dropdown.selectedIndex].value;\n",
       "    fig.ondownload(fig, format);\n",
       "}\n",
       "\n",
       "\n",
       "mpl.figure.prototype.handle_resize = function(fig, msg) {\n",
       "    var size = msg['size'];\n",
       "    if (size[0] != fig.canvas.width || size[1] != fig.canvas.height) {\n",
       "        fig._resize_canvas(size[0], size[1]);\n",
       "        fig.send_message(\"refresh\", {});\n",
       "    };\n",
       "}\n",
       "\n",
       "mpl.figure.prototype.handle_rubberband = function(fig, msg) {\n",
       "    var x0 = msg['x0'] / mpl.ratio;\n",
       "    var y0 = (fig.canvas.height - msg['y0']) / mpl.ratio;\n",
       "    var x1 = msg['x1'] / mpl.ratio;\n",
       "    var y1 = (fig.canvas.height - msg['y1']) / mpl.ratio;\n",
       "    x0 = Math.floor(x0) + 0.5;\n",
       "    y0 = Math.floor(y0) + 0.5;\n",
       "    x1 = Math.floor(x1) + 0.5;\n",
       "    y1 = Math.floor(y1) + 0.5;\n",
       "    var min_x = Math.min(x0, x1);\n",
       "    var min_y = Math.min(y0, y1);\n",
       "    var width = Math.abs(x1 - x0);\n",
       "    var height = Math.abs(y1 - y0);\n",
       "\n",
       "    fig.rubberband_context.clearRect(\n",
       "        0, 0, fig.canvas.width, fig.canvas.height);\n",
       "\n",
       "    fig.rubberband_context.strokeRect(min_x, min_y, width, height);\n",
       "}\n",
       "\n",
       "mpl.figure.prototype.handle_figure_label = function(fig, msg) {\n",
       "    // Updates the figure title.\n",
       "    fig.header.textContent = msg['label'];\n",
       "}\n",
       "\n",
       "mpl.figure.prototype.handle_cursor = function(fig, msg) {\n",
       "    var cursor = msg['cursor'];\n",
       "    switch(cursor)\n",
       "    {\n",
       "    case 0:\n",
       "        cursor = 'pointer';\n",
       "        break;\n",
       "    case 1:\n",
       "        cursor = 'default';\n",
       "        break;\n",
       "    case 2:\n",
       "        cursor = 'crosshair';\n",
       "        break;\n",
       "    case 3:\n",
       "        cursor = 'move';\n",
       "        break;\n",
       "    }\n",
       "    fig.rubberband_canvas.style.cursor = cursor;\n",
       "}\n",
       "\n",
       "mpl.figure.prototype.handle_message = function(fig, msg) {\n",
       "    fig.message.textContent = msg['message'];\n",
       "}\n",
       "\n",
       "mpl.figure.prototype.handle_draw = function(fig, msg) {\n",
       "    // Request the server to send over a new figure.\n",
       "    fig.send_draw_message();\n",
       "}\n",
       "\n",
       "mpl.figure.prototype.handle_image_mode = function(fig, msg) {\n",
       "    fig.image_mode = msg['mode'];\n",
       "}\n",
       "\n",
       "mpl.figure.prototype.updated_canvas_event = function() {\n",
       "    // Called whenever the canvas gets updated.\n",
       "    this.send_message(\"ack\", {});\n",
       "}\n",
       "\n",
       "// A function to construct a web socket function for onmessage handling.\n",
       "// Called in the figure constructor.\n",
       "mpl.figure.prototype._make_on_message_function = function(fig) {\n",
       "    return function socket_on_message(evt) {\n",
       "        if (evt.data instanceof Blob) {\n",
       "            /* FIXME: We get \"Resource interpreted as Image but\n",
       "             * transferred with MIME type text/plain:\" errors on\n",
       "             * Chrome.  But how to set the MIME type?  It doesn't seem\n",
       "             * to be part of the websocket stream */\n",
       "            evt.data.type = \"image/png\";\n",
       "\n",
       "            /* Free the memory for the previous frames */\n",
       "            if (fig.imageObj.src) {\n",
       "                (window.URL || window.webkitURL).revokeObjectURL(\n",
       "                    fig.imageObj.src);\n",
       "            }\n",
       "\n",
       "            fig.imageObj.src = (window.URL || window.webkitURL).createObjectURL(\n",
       "                evt.data);\n",
       "            fig.updated_canvas_event();\n",
       "            fig.waiting = false;\n",
       "            return;\n",
       "        }\n",
       "        else if (typeof evt.data === 'string' && evt.data.slice(0, 21) == \"data:image/png;base64\") {\n",
       "            fig.imageObj.src = evt.data;\n",
       "            fig.updated_canvas_event();\n",
       "            fig.waiting = false;\n",
       "            return;\n",
       "        }\n",
       "\n",
       "        var msg = JSON.parse(evt.data);\n",
       "        var msg_type = msg['type'];\n",
       "\n",
       "        // Call the  \"handle_{type}\" callback, which takes\n",
       "        // the figure and JSON message as its only arguments.\n",
       "        try {\n",
       "            var callback = fig[\"handle_\" + msg_type];\n",
       "        } catch (e) {\n",
       "            console.log(\"No handler for the '\" + msg_type + \"' message type: \", msg);\n",
       "            return;\n",
       "        }\n",
       "\n",
       "        if (callback) {\n",
       "            try {\n",
       "                // console.log(\"Handling '\" + msg_type + \"' message: \", msg);\n",
       "                callback(fig, msg);\n",
       "            } catch (e) {\n",
       "                console.log(\"Exception inside the 'handler_\" + msg_type + \"' callback:\", e, e.stack, msg);\n",
       "            }\n",
       "        }\n",
       "    };\n",
       "}\n",
       "\n",
       "// from http://stackoverflow.com/questions/1114465/getting-mouse-location-in-canvas\n",
       "mpl.findpos = function(e) {\n",
       "    //this section is from http://www.quirksmode.org/js/events_properties.html\n",
       "    var targ;\n",
       "    if (!e)\n",
       "        e = window.event;\n",
       "    if (e.target)\n",
       "        targ = e.target;\n",
       "    else if (e.srcElement)\n",
       "        targ = e.srcElement;\n",
       "    if (targ.nodeType == 3) // defeat Safari bug\n",
       "        targ = targ.parentNode;\n",
       "\n",
       "    // jQuery normalizes the pageX and pageY\n",
       "    // pageX,Y are the mouse positions relative to the document\n",
       "    // offset() returns the position of the element relative to the document\n",
       "    var x = e.pageX - $(targ).offset().left;\n",
       "    var y = e.pageY - $(targ).offset().top;\n",
       "\n",
       "    return {\"x\": x, \"y\": y};\n",
       "};\n",
       "\n",
       "/*\n",
       " * return a copy of an object with only non-object keys\n",
       " * we need this to avoid circular references\n",
       " * http://stackoverflow.com/a/24161582/3208463\n",
       " */\n",
       "function simpleKeys (original) {\n",
       "  return Object.keys(original).reduce(function (obj, key) {\n",
       "    if (typeof original[key] !== 'object')\n",
       "        obj[key] = original[key]\n",
       "    return obj;\n",
       "  }, {});\n",
       "}\n",
       "\n",
       "mpl.figure.prototype.mouse_event = function(event, name) {\n",
       "    var canvas_pos = mpl.findpos(event)\n",
       "\n",
       "    if (name === 'button_press')\n",
       "    {\n",
       "        this.canvas.focus();\n",
       "        this.canvas_div.focus();\n",
       "    }\n",
       "\n",
       "    var x = canvas_pos.x * mpl.ratio;\n",
       "    var y = canvas_pos.y * mpl.ratio;\n",
       "\n",
       "    this.send_message(name, {x: x, y: y, button: event.button,\n",
       "                             step: event.step,\n",
       "                             guiEvent: simpleKeys(event)});\n",
       "\n",
       "    /* This prevents the web browser from automatically changing to\n",
       "     * the text insertion cursor when the button is pressed.  We want\n",
       "     * to control all of the cursor setting manually through the\n",
       "     * 'cursor' event from matplotlib */\n",
       "    event.preventDefault();\n",
       "    return false;\n",
       "}\n",
       "\n",
       "mpl.figure.prototype._key_event_extra = function(event, name) {\n",
       "    // Handle any extra behaviour associated with a key event\n",
       "}\n",
       "\n",
       "mpl.figure.prototype.key_event = function(event, name) {\n",
       "\n",
       "    // Prevent repeat events\n",
       "    if (name == 'key_press')\n",
       "    {\n",
       "        if (event.which === this._key)\n",
       "            return;\n",
       "        else\n",
       "            this._key = event.which;\n",
       "    }\n",
       "    if (name == 'key_release')\n",
       "        this._key = null;\n",
       "\n",
       "    var value = '';\n",
       "    if (event.ctrlKey && event.which != 17)\n",
       "        value += \"ctrl+\";\n",
       "    if (event.altKey && event.which != 18)\n",
       "        value += \"alt+\";\n",
       "    if (event.shiftKey && event.which != 16)\n",
       "        value += \"shift+\";\n",
       "\n",
       "    value += 'k';\n",
       "    value += event.which.toString();\n",
       "\n",
       "    this._key_event_extra(event, name);\n",
       "\n",
       "    this.send_message(name, {key: value,\n",
       "                             guiEvent: simpleKeys(event)});\n",
       "    return false;\n",
       "}\n",
       "\n",
       "mpl.figure.prototype.toolbar_button_onclick = function(name) {\n",
       "    if (name == 'download') {\n",
       "        this.handle_save(this, null);\n",
       "    } else {\n",
       "        this.send_message(\"toolbar_button\", {name: name});\n",
       "    }\n",
       "};\n",
       "\n",
       "mpl.figure.prototype.toolbar_button_onmouseover = function(tooltip) {\n",
       "    this.message.textContent = tooltip;\n",
       "};\n",
       "mpl.toolbar_items = [[\"Home\", \"Reset original view\", \"fa fa-home icon-home\", \"home\"], [\"Back\", \"Back to  previous view\", \"fa fa-arrow-left icon-arrow-left\", \"back\"], [\"Forward\", \"Forward to next view\", \"fa fa-arrow-right icon-arrow-right\", \"forward\"], [\"\", \"\", \"\", \"\"], [\"Pan\", \"Pan axes with left mouse, zoom with right\", \"fa fa-arrows icon-move\", \"pan\"], [\"Zoom\", \"Zoom to rectangle\", \"fa fa-square-o icon-check-empty\", \"zoom\"], [\"\", \"\", \"\", \"\"], [\"Download\", \"Download plot\", \"fa fa-floppy-o icon-save\", \"download\"]];\n",
       "\n",
       "mpl.extensions = [\"eps\", \"jpeg\", \"pdf\", \"png\", \"ps\", \"raw\", \"svg\", \"tif\"];\n",
       "\n",
       "mpl.default_extension = \"png\";var comm_websocket_adapter = function(comm) {\n",
       "    // Create a \"websocket\"-like object which calls the given IPython comm\n",
       "    // object with the appropriate methods. Currently this is a non binary\n",
       "    // socket, so there is still some room for performance tuning.\n",
       "    var ws = {};\n",
       "\n",
       "    ws.close = function() {\n",
       "        comm.close()\n",
       "    };\n",
       "    ws.send = function(m) {\n",
       "        //console.log('sending', m);\n",
       "        comm.send(m);\n",
       "    };\n",
       "    // Register the callback with on_msg.\n",
       "    comm.on_msg(function(msg) {\n",
       "        //console.log('receiving', msg['content']['data'], msg);\n",
       "        // Pass the mpl event to the overriden (by mpl) onmessage function.\n",
       "        ws.onmessage(msg['content']['data'])\n",
       "    });\n",
       "    return ws;\n",
       "}\n",
       "\n",
       "mpl.mpl_figure_comm = function(comm, msg) {\n",
       "    // This is the function which gets called when the mpl process\n",
       "    // starts-up an IPython Comm through the \"matplotlib\" channel.\n",
       "\n",
       "    var id = msg.content.data.id;\n",
       "    // Get hold of the div created by the display call when the Comm\n",
       "    // socket was opened in Python.\n",
       "    var element = $(\"#\" + id);\n",
       "    var ws_proxy = comm_websocket_adapter(comm)\n",
       "\n",
       "    function ondownload(figure, format) {\n",
       "        window.open(figure.imageObj.src);\n",
       "    }\n",
       "\n",
       "    var fig = new mpl.figure(id, ws_proxy,\n",
       "                           ondownload,\n",
       "                           element.get(0));\n",
       "\n",
       "    // Call onopen now - mpl needs it, as it is assuming we've passed it a real\n",
       "    // web socket which is closed, not our websocket->open comm proxy.\n",
       "    ws_proxy.onopen();\n",
       "\n",
       "    fig.parent_element = element.get(0);\n",
       "    fig.cell_info = mpl.find_output_cell(\"<div id='\" + id + \"'></div>\");\n",
       "    if (!fig.cell_info) {\n",
       "        console.error(\"Failed to find cell for figure\", id, fig);\n",
       "        return;\n",
       "    }\n",
       "\n",
       "    var output_index = fig.cell_info[2]\n",
       "    var cell = fig.cell_info[0];\n",
       "\n",
       "};\n",
       "\n",
       "mpl.figure.prototype.handle_close = function(fig, msg) {\n",
       "    var width = fig.canvas.width/mpl.ratio\n",
       "    fig.root.unbind('remove')\n",
       "\n",
       "    // Update the output cell to use the data from the current canvas.\n",
       "    fig.push_to_output();\n",
       "    var dataURL = fig.canvas.toDataURL();\n",
       "    // Re-enable the keyboard manager in IPython - without this line, in FF,\n",
       "    // the notebook keyboard shortcuts fail.\n",
       "    IPython.keyboard_manager.enable()\n",
       "    $(fig.parent_element).html('<img src=\"' + dataURL + '\" width=\"' + width + '\">');\n",
       "    fig.close_ws(fig, msg);\n",
       "}\n",
       "\n",
       "mpl.figure.prototype.close_ws = function(fig, msg){\n",
       "    fig.send_message('closing', msg);\n",
       "    // fig.ws.close()\n",
       "}\n",
       "\n",
       "mpl.figure.prototype.push_to_output = function(remove_interactive) {\n",
       "    // Turn the data on the canvas into data in the output cell.\n",
       "    var width = this.canvas.width/mpl.ratio\n",
       "    var dataURL = this.canvas.toDataURL();\n",
       "    this.cell_info[1]['text/html'] = '<img src=\"' + dataURL + '\" width=\"' + width + '\">';\n",
       "}\n",
       "\n",
       "mpl.figure.prototype.updated_canvas_event = function() {\n",
       "    // Tell IPython that the notebook contents must change.\n",
       "    IPython.notebook.set_dirty(true);\n",
       "    this.send_message(\"ack\", {});\n",
       "    var fig = this;\n",
       "    // Wait a second, then push the new image to the DOM so\n",
       "    // that it is saved nicely (might be nice to debounce this).\n",
       "    setTimeout(function () { fig.push_to_output() }, 1000);\n",
       "}\n",
       "\n",
       "mpl.figure.prototype._init_toolbar = function() {\n",
       "    var fig = this;\n",
       "\n",
       "    var nav_element = $('<div/>')\n",
       "    nav_element.attr('style', 'width: 100%');\n",
       "    this.root.append(nav_element);\n",
       "\n",
       "    // Define a callback function for later on.\n",
       "    function toolbar_event(event) {\n",
       "        return fig.toolbar_button_onclick(event['data']);\n",
       "    }\n",
       "    function toolbar_mouse_event(event) {\n",
       "        return fig.toolbar_button_onmouseover(event['data']);\n",
       "    }\n",
       "\n",
       "    for(var toolbar_ind in mpl.toolbar_items){\n",
       "        var name = mpl.toolbar_items[toolbar_ind][0];\n",
       "        var tooltip = mpl.toolbar_items[toolbar_ind][1];\n",
       "        var image = mpl.toolbar_items[toolbar_ind][2];\n",
       "        var method_name = mpl.toolbar_items[toolbar_ind][3];\n",
       "\n",
       "        if (!name) { continue; };\n",
       "\n",
       "        var button = $('<button class=\"btn btn-default\" href=\"#\" title=\"' + name + '\"><i class=\"fa ' + image + ' fa-lg\"></i></button>');\n",
       "        button.click(method_name, toolbar_event);\n",
       "        button.mouseover(tooltip, toolbar_mouse_event);\n",
       "        nav_element.append(button);\n",
       "    }\n",
       "\n",
       "    // Add the status bar.\n",
       "    var status_bar = $('<span class=\"mpl-message\" style=\"text-align:right; float: right;\"/>');\n",
       "    nav_element.append(status_bar);\n",
       "    this.message = status_bar[0];\n",
       "\n",
       "    // Add the close button to the window.\n",
       "    var buttongrp = $('<div class=\"btn-group inline pull-right\"></div>');\n",
       "    var button = $('<button class=\"btn btn-mini btn-primary\" href=\"#\" title=\"Stop Interaction\"><i class=\"fa fa-power-off icon-remove icon-large\"></i></button>');\n",
       "    button.click(function (evt) { fig.handle_close(fig, {}); } );\n",
       "    button.mouseover('Stop Interaction', toolbar_mouse_event);\n",
       "    buttongrp.append(button);\n",
       "    var titlebar = this.root.find($('.ui-dialog-titlebar'));\n",
       "    titlebar.prepend(buttongrp);\n",
       "}\n",
       "\n",
       "mpl.figure.prototype._root_extra_style = function(el){\n",
       "    var fig = this\n",
       "    el.on(\"remove\", function(){\n",
       "\tfig.close_ws(fig, {});\n",
       "    });\n",
       "}\n",
       "\n",
       "mpl.figure.prototype._canvas_extra_style = function(el){\n",
       "    // this is important to make the div 'focusable\n",
       "    el.attr('tabindex', 0)\n",
       "    // reach out to IPython and tell the keyboard manager to turn it's self\n",
       "    // off when our div gets focus\n",
       "\n",
       "    // location in version 3\n",
       "    if (IPython.notebook.keyboard_manager) {\n",
       "        IPython.notebook.keyboard_manager.register_events(el);\n",
       "    }\n",
       "    else {\n",
       "        // location in version 2\n",
       "        IPython.keyboard_manager.register_events(el);\n",
       "    }\n",
       "\n",
       "}\n",
       "\n",
       "mpl.figure.prototype._key_event_extra = function(event, name) {\n",
       "    var manager = IPython.notebook.keyboard_manager;\n",
       "    if (!manager)\n",
       "        manager = IPython.keyboard_manager;\n",
       "\n",
       "    // Check for shift+enter\n",
       "    if (event.shiftKey && event.which == 13) {\n",
       "        this.canvas_div.blur();\n",
       "        // select the cell after this one\n",
       "        var index = IPython.notebook.find_cell_index(this.cell_info[0]);\n",
       "        IPython.notebook.select(index + 1);\n",
       "    }\n",
       "}\n",
       "\n",
       "mpl.figure.prototype.handle_save = function(fig, msg) {\n",
       "    fig.ondownload(fig, null);\n",
       "}\n",
       "\n",
       "\n",
       "mpl.find_output_cell = function(html_output) {\n",
       "    // Return the cell and output element which can be found *uniquely* in the notebook.\n",
       "    // Note - this is a bit hacky, but it is done because the \"notebook_saving.Notebook\"\n",
       "    // IPython event is triggered only after the cells have been serialised, which for\n",
       "    // our purposes (turning an active figure into a static one), is too late.\n",
       "    var cells = IPython.notebook.get_cells();\n",
       "    var ncells = cells.length;\n",
       "    for (var i=0; i<ncells; i++) {\n",
       "        var cell = cells[i];\n",
       "        if (cell.cell_type === 'code'){\n",
       "            for (var j=0; j<cell.output_area.outputs.length; j++) {\n",
       "                var data = cell.output_area.outputs[j];\n",
       "                if (data.data) {\n",
       "                    // IPython >= 3 moved mimebundle to data attribute of output\n",
       "                    data = data.data;\n",
       "                }\n",
       "                if (data['text/html'] == html_output) {\n",
       "                    return [cell, data, j];\n",
       "                }\n",
       "            }\n",
       "        }\n",
       "    }\n",
       "}\n",
       "\n",
       "// Register the function which deals with the matplotlib target/channel.\n",
       "// The kernel may be null if the page has been refreshed.\n",
       "if (IPython.notebook.kernel != null) {\n",
       "    IPython.notebook.kernel.comm_manager.register_target('matplotlib', mpl.mpl_figure_comm);\n",
       "}\n"
      ],
      "text/plain": [
       "<IPython.core.display.Javascript object>"
      ]
     },
     "metadata": {},
     "output_type": "display_data"
    },
    {
     "data": {
      "text/html": [
       "<img src=\"data:image/png;base64,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\" width=\"640\">"
      ],
      "text/plain": [
       "<IPython.core.display.HTML object>"
      ]
     },
     "metadata": {},
     "output_type": "display_data"
    }
   ],
   "source": [
    "plt.plot([1,2,3],[2,2,1])\n",
    "plt.savefig('line_plot.png')"
   ]
  },
  {
   "cell_type": "markdown",
   "metadata": {},
   "source": [
    "rendering images\n",
    "![title](line_plot.png)"
   ]
  },
  {
   "cell_type": "markdown",
   "metadata": {
    "nbpresent": {
     "id": "c0cd4b20-6eae-4bd1-ac54-f00f10a95f9e"
    }
   },
   "source": [
    "### Converting to other formats"
   ]
  },
  {
   "cell_type": "markdown",
   "metadata": {},
   "source": [
    "* Use GUI `File` tab\n",
    "* Command line via `nbconvert`"
   ]
  },
  {
   "cell_type": "code",
   "execution_count": 8,
   "metadata": {
    "nbpresent": {
     "id": "93fd7ddd-126a-49ec-83dc-32be24811a12"
    }
   },
   "outputs": [
    {
     "name": "stdout",
     "output_type": "stream",
     "text": [
      "This application is used to convert notebook files (*.ipynb) to various other\n",
      "formats.\n",
      "\n",
      "WARNING: THE COMMANDLINE INTERFACE MAY CHANGE IN FUTURE RELEASES.\n",
      "\n",
      "Options\n",
      "-------\n",
      "\n",
      "Arguments that take values are actually convenience aliases to full\n",
      "Configurables, whose aliases are listed on the help line. For more information\n",
      "on full configurables, see '--help-all'.\n",
      "\n",
      "--debug\n",
      "    set log level to logging.DEBUG (maximize logging output)\n",
      "--generate-config\n",
      "    generate default config file\n",
      "-y\n",
      "    Answer yes to any questions instead of prompting.\n",
      "--execute\n",
      "    Execute the notebook prior to export.\n",
      "--allow-errors\n",
      "    Continue notebook execution even if one of the cells throws an error and include the error message in the cell output (the default behaviour is to abort conversion). This flag is only relevant if '--execute' was specified, too.\n",
      "--stdin\n",
      "    read a single notebook file from stdin. Write the resulting notebook with default basename 'notebook.*'\n",
      "--stdout\n",
      "    Write notebook output to stdout instead of files.\n",
      "--inplace\n",
      "    Run nbconvert in place, overwriting the existing notebook (only \n",
      "    relevant when converting to notebook format)\n",
      "--no-prompt\n",
      "    Exclude input and output prompts from converted document.\n",
      "--log-level=<Enum> (Application.log_level)\n",
      "    Default: 30\n",
      "    Choices: (0, 10, 20, 30, 40, 50, 'DEBUG', 'INFO', 'WARN', 'ERROR', 'CRITICAL')\n",
      "    Set the log level by value or name.\n",
      "--config=<Unicode> (JupyterApp.config_file)\n",
      "    Default: ''\n",
      "    Full path of a config file.\n",
      "--to=<Unicode> (NbConvertApp.export_format)\n",
      "    Default: 'html'\n",
      "    The export format to be used, either one of the built-in formats, or a\n",
      "    dotted object name that represents the import path for an `Exporter` class\n",
      "--template=<Unicode> (TemplateExporter.template_file)\n",
      "    Default: ''\n",
      "    Name of the template file to use\n",
      "--writer=<DottedObjectName> (NbConvertApp.writer_class)\n",
      "    Default: 'FilesWriter'\n",
      "    Writer class used to write the  results of the conversion\n",
      "--post=<DottedOrNone> (NbConvertApp.postprocessor_class)\n",
      "    Default: ''\n",
      "    PostProcessor class used to write the results of the conversion\n",
      "--output=<Unicode> (NbConvertApp.output_base)\n",
      "    Default: ''\n",
      "    overwrite base name use for output files. can only be used when converting\n",
      "    one notebook at a time.\n",
      "--output-dir=<Unicode> (FilesWriter.build_directory)\n",
      "    Default: ''\n",
      "    Directory to write output(s) to. Defaults to output to the directory of each\n",
      "    notebook. To recover previous default behaviour (outputting to the current\n",
      "    working directory) use . as the flag value.\n",
      "--reveal-prefix=<Unicode> (SlidesExporter.reveal_url_prefix)\n",
      "    Default: ''\n",
      "    The URL prefix for reveal.js. This can be a a relative URL for a local copy\n",
      "    of reveal.js, or point to a CDN.\n",
      "    For speaker notes to work, a local reveal.js prefix must be used.\n",
      "--nbformat=<Enum> (NotebookExporter.nbformat_version)\n",
      "    Default: 4\n",
      "    Choices: [1, 2, 3, 4]\n",
      "    The nbformat version to write. Use this to downgrade notebooks.\n",
      "\n",
      "To see all available configurables, use `--help-all`\n",
      "\n",
      "Examples\n",
      "--------\n",
      "\n",
      "    The simplest way to use nbconvert is\n",
      "    \n",
      "    > jupyter nbconvert mynotebook.ipynb\n",
      "    \n",
      "    which will convert mynotebook.ipynb to the default format (probably HTML).\n",
      "    \n",
      "    You can specify the export format with `--to`.\n",
      "    Options include ['asciidoc', 'custom', 'html', 'html_ch', 'html_embed', 'html_toc', 'html_with_lenvs', 'html_with_toclenvs', 'latex', 'latex_with_lenvs', 'markdown', 'notebook', 'pdf', 'python', 'rst', 'script', 'selectLanguage', 'slides']\n",
      "    \n",
      "    > jupyter nbconvert --to latex mynotebook.ipynb\n",
      "    \n",
      "    Both HTML and LaTeX support multiple output templates. LaTeX includes\n",
      "    'base', 'article' and 'report'.  HTML includes 'basic' and 'full'. You\n",
      "    can specify the flavor of the format used.\n",
      "    \n",
      "    > jupyter nbconvert --to html --template basic mynotebook.ipynb\n",
      "    \n",
      "    You can also pipe the output to stdout, rather than a file\n",
      "    \n",
      "    > jupyter nbconvert mynotebook.ipynb --stdout\n",
      "    \n",
      "    PDF is generated via latex\n",
      "    \n",
      "    > jupyter nbconvert mynotebook.ipynb --to pdf\n",
      "    \n",
      "    You can get (and serve) a Reveal.js-powered slideshow\n",
      "    \n",
      "    > jupyter nbconvert myslides.ipynb --to slides --post serve\n",
      "    \n",
      "    Multiple notebooks can be given at the command line in a couple of \n",
      "    different ways:\n",
      "    \n",
      "    > jupyter nbconvert notebook*.ipynb\n",
      "    > jupyter nbconvert notebook1.ipynb notebook2.ipynb\n",
      "    \n",
      "    or you can specify the notebooks list in a config file, containing::\n",
      "    \n",
      "        c.NbConvertApp.notebooks = [\"my_notebook.ipynb\"]\n",
      "    \n",
      "    > jupyter nbconvert --config mycfg.py\n",
      "\n"
     ]
    },
    {
     "name": "stderr",
     "output_type": "stream",
     "text": [
      "[NbConvertApp] WARNING | pattern 'CapabilityDemos.ipynb' matched no files\n"
     ]
    }
   ],
   "source": [
    "%%bash\n",
    "jupyter nbconvert CapabilityDemos.ipynb --to python  #--to pdf"
   ]
  },
  {
   "cell_type": "markdown",
   "metadata": {},
   "source": [
    "### Processing kernels"
   ]
  },
  {
   "cell_type": "markdown",
   "metadata": {},
   "source": [
    "* A variety of kernels allow to run Python2/3, Bash, R, Scala: https://github.com/jupyter/jupyter/wiki/Jupyter-kernels\n",
    "* `Kernel` menu"
   ]
  },
  {
   "cell_type": "markdown",
   "metadata": {},
   "source": [
    "* [RNotebook.ipynb](RNotebook.ipynb)"
   ]
  },
  {
   "cell_type": "markdown",
   "metadata": {},
   "source": [
    "### Shell commands"
   ]
  },
  {
   "cell_type": "code",
   "execution_count": 9,
   "metadata": {},
   "outputs": [
    {
     "name": "stdout",
     "output_type": "stream",
     "text": [
      "total 2216\r\n",
      "-rw-r--r--  1 christian  staff      49 24 Mar 08:32 utils.py\r\n",
      "-rw-r--r--  1 christian  staff   50147 24 Mar 08:58 RNotebook.ipynb\r\n",
      "-rw-r--r--  1 christian  staff    4160 24 Mar 10:18 CapabilityDemos.py\r\n",
      "-rw-r--r--  1 christian  staff       4 24 Mar 10:46 test.txt\r\n",
      "-rw-r--r--  1 christian  staff       0 24 Mar 10:47 untitled.txt\r\n",
      "-rw-r--r--  1 christian  staff    2305 24 Mar 11:02 II. OtherApplications.ipynb\r\n",
      "-rw-r--r--  1 christian  staff    7695 29 Mar 09:32 III. JupyterLab.ipynb\r\n",
      "-rw-r--r--  1 christian  staff  149353 29 Mar 09:33 I. CapabilityDemos.ipynb\r\n",
      "-rw-r--r--@ 1 christian  staff  368032 29 Mar 09:34 I.+CapabilityDemos (1).html\r\n",
      "-rw-r--r--@ 1 christian  staff  252674 29 Mar 09:34 II.+OtherApplications.html\r\n",
      "-rw-r--r--@ 1 christian  staff  257636 29 Mar 09:35 III.+JupyterLab.html\r\n",
      "-rw-r--r--  1 christian  staff    1262 29 Mar 09:36 TestNotebookDependency.ipynb\r\n",
      "-rw-r--r--  1 christian  staff   13215 29 Mar 09:36 line_plot.png\r\n"
     ]
    }
   ],
   "source": [
    "!ls -ltr"
   ]
  },
  {
   "cell_type": "markdown",
   "metadata": {},
   "source": [
    "### Notebook magic"
   ]
  },
  {
   "cell_type": "code",
   "execution_count": 10,
   "metadata": {},
   "outputs": [
    {
     "name": "stderr",
     "output_type": "stream",
     "text": [
      "ERROR:root:Cell magic `%%` not found.\n"
     ]
    }
   ],
   "source": [
    "%%\n",
    "#Other magic commands available:\n",
    "a = [i for i in range(100000000)]"
   ]
  },
  {
   "cell_type": "markdown",
   "metadata": {},
   "source": [
    "Default kernel for notebook plus kernel can be switched via magic commands"
   ]
  },
  {
   "cell_type": "markdown",
   "metadata": {},
   "source": [
    "### Executing external code"
   ]
  },
  {
   "cell_type": "code",
   "execution_count": 11,
   "metadata": {
    "collapsed": true
   },
   "outputs": [],
   "source": [
    "%run utils.py"
   ]
  },
  {
   "cell_type": "code",
   "execution_count": 12,
   "metadata": {},
   "outputs": [
    {
     "name": "stdout",
     "output_type": "stream",
     "text": [
      "def test_func():\r\n",
      "    print('executed test_func')\r\n"
     ]
    }
   ],
   "source": [
    "!cat utils.py"
   ]
  },
  {
   "cell_type": "code",
   "execution_count": 13,
   "metadata": {},
   "outputs": [
    {
     "name": "stdout",
     "output_type": "stream",
     "text": [
      "executed test_func\n"
     ]
    }
   ],
   "source": [
    "test_func()"
   ]
  },
  {
   "cell_type": "markdown",
   "metadata": {},
   "source": [
    "### Security"
   ]
  },
  {
   "cell_type": "markdown",
   "metadata": {},
   "source": [
    "* Trusted notebooks: signature in notebook metadata ensures safe execution\n",
    "\n",
    "    `jupyter trust mynotebook.ipynb`\n",
    "\n",
    "* Password protection through jupyter_notebook_config.py"
   ]
  },
  {
   "cell_type": "code",
   "execution_count": 14,
   "metadata": {
    "collapsed": true
   },
   "outputs": [],
   "source": [
    "#from notebook.auth import passwd\n",
    "#passwd()"
   ]
  },
  {
   "cell_type": "markdown",
   "metadata": {},
   "source": [
    "### Workflow"
   ]
  },
  {
   "cell_type": "markdown",
   "metadata": {},
   "source": [
    "* Create notebook/project (github?)\n",
    "* Create reproducable analysis (beware of random numbers)\n",
    "* Add layouts, organization\n",
    "* Publish/Share"
   ]
  },
  {
   "cell_type": "markdown",
   "metadata": {},
   "source": [
    "### Deploying Notebooks"
   ]
  },
  {
   "cell_type": "markdown",
   "metadata": {},
   "source": [
    "* Viewer for notebooks @ https://nbviewer.jupyter.org/\n",
    "* Run your own Jupyter server in the cloud. \n",
    "* Rendering on GitHub"
   ]
  },
  {
   "cell_type": "markdown",
   "metadata": {
    "nbpresent": {
     "id": "142c55e4-630a-4645-a53d-c5d44ce851a7"
    }
   },
   "source": [
    "### Presenting results\n",
    "\n",
    "* https://damianavila.github.io/RISE/\n",
    "* https://github.com/Anaconda-Platform/nbpresent#install"
   ]
  },
  {
   "cell_type": "markdown",
   "metadata": {
    "nbpresent": {
     "id": "b5529776-7f55-4656-91ae-52671d2beb53"
    }
   },
   "source": [
    "### Reading from other Jupyter notebooks"
   ]
  },
  {
   "cell_type": "markdown",
   "metadata": {},
   "source": [
    "Disadvantage: Notebooks are typically separate workflows."
   ]
  },
  {
   "cell_type": "code",
   "execution_count": 15,
   "metadata": {
    "collapsed": true,
    "nbpresent": {
     "id": "28658bff-f3cf-42e4-8d4e-9da450389e86"
    }
   },
   "outputs": [],
   "source": [
    "import json"
   ]
  },
  {
   "cell_type": "code",
   "execution_count": 16,
   "metadata": {
    "collapsed": true,
    "nbpresent": {
     "id": "3756ac33-3fc9-4b28-b4b3-943f5b6c30a2"
    }
   },
   "outputs": [],
   "source": [
    "f1 = open('TestNotebookDependency.ipynb')\n",
    "lines=f1.readlines()\n",
    "f1.close()\n",
    "\n",
    "str_dum = ''\n",
    "for l in lines:\n",
    "    str_dum +=l"
   ]
  },
  {
   "cell_type": "code",
   "execution_count": 17,
   "metadata": {
    "collapsed": true,
    "nbpresent": {
     "id": "bfc8240c-866a-4a93-b06e-53c1cc4337ff"
    }
   },
   "outputs": [],
   "source": [
    "d = json.loads(str_dum)"
   ]
  },
  {
   "cell_type": "code",
   "execution_count": 18,
   "metadata": {
    "nbpresent": {
     "id": "794923a5-16e5-4588-a216-37026cce3281"
    }
   },
   "outputs": [
    {
     "data": {
      "text/plain": [
       "[{'cell_type': 'markdown',\n",
       "  'metadata': {},\n",
       "  'source': ['# Test for I. CapabilityDemos.ipynb']},\n",
       " {'cell_type': 'code',\n",
       "  'execution_count': 5,\n",
       "  'metadata': {'collapsed': True},\n",
       "  'outputs': [],\n",
       "  'source': ['time = 3. #s\\n', 'distance = 5. #m']},\n",
       " {'cell_type': 'code',\n",
       "  'execution_count': 6,\n",
       "  'metadata': {},\n",
       "  'outputs': [{'data': {'text/plain': ['1.6666666666666667']},\n",
       "    'execution_count': 6,\n",
       "    'metadata': {},\n",
       "    'output_type': 'execute_result'}],\n",
       "  'source': ['velocity = distance/time #m/s\\n', 'velocity']},\n",
       " {'cell_type': 'code',\n",
       "  'execution_count': None,\n",
       "  'metadata': {'collapsed': True},\n",
       "  'outputs': [],\n",
       "  'source': []}]"
      ]
     },
     "execution_count": 18,
     "metadata": {},
     "output_type": "execute_result"
    }
   ],
   "source": [
    "d['cells']"
   ]
  },
  {
   "cell_type": "code",
   "execution_count": 19,
   "metadata": {
    "nbpresent": {
     "id": "060dd7b0-0ac5-4e7e-ac32-2a449bedfa6a"
    }
   },
   "outputs": [
    {
     "name": "stdout",
     "output_type": "stream",
     "text": [
      "['1.6666666666666667']\n"
     ]
    }
   ],
   "source": [
    "for cell in d['cells']:\n",
    "    if len(cell['source'])>0:\n",
    "        if 'velocity' in cell['source'][-1]:\n",
    "            print(cell['outputs'][0]['data']['text/plain'])"
   ]
  },
  {
   "cell_type": "markdown",
   "metadata": {
    "nbpresent": {
     "id": "ff15b8e6-788a-4452-a095-605eab64a72e"
    }
   },
   "source": [
    "### Youtube"
   ]
  },
  {
   "cell_type": "code",
   "execution_count": 20,
   "metadata": {
    "collapsed": true,
    "nbpresent": {
     "id": "a0889a88-b57b-4f4f-a83d-57f071c36414"
    }
   },
   "outputs": [],
   "source": [
    "from IPython.display import YouTubeVideo"
   ]
  },
  {
   "cell_type": "code",
   "execution_count": 21,
   "metadata": {},
   "outputs": [
    {
     "data": {
      "image/jpeg": "[encoded data removed]",
      "text/html": [
       "\n",
       "        <iframe\n",
       "            width=\"400\"\n",
       "            height=\"300\"\n",
       "            src=\"https://www.youtube.com/embed/Iuj9vLOvVJo\"\n",
       "            frameborder=\"0\"\n",
       "            allowfullscreen\n",
       "        ></iframe>\n",
       "        "
      ],
      "text/plain": [
       "<IPython.lib.display.YouTubeVideo at 0x10b92ed68>"
      ]
     },
     "execution_count": 21,
     "metadata": {},
     "output_type": "execute_result"
    }
   ],
   "source": [
    "#https://www.youtube.com/watch?v=Iuj9vLOvVJo\n",
    "YouTubeVideo(\"Iuj9vLOvVJo\")"
   ]
  },
  {
   "cell_type": "markdown",
   "metadata": {},
   "source": [
    "### Widgets"
   ]
  },
  {
   "cell_type": "markdown",
   "metadata": {},
   "source": [
    "* Interactive widgets (buttons, levels etc.) at http://jupyter.org/widgets\n",
    "* Easy integration with existing code, e.g. functions"
   ]
  },
  {
   "cell_type": "code",
   "execution_count": 22,
   "metadata": {},
   "outputs": [
    {
     "data": {
      "application/vnd.jupyter.widget-view+json": {
       "model_id": "5471404117e44dbab6f0789e4a02ea0a",
       "version_major": 2,
       "version_minor": 0
      },
      "text/html": [
       "<p>Failed to display Jupyter Widget of type <code>interactive</code>.</p>\n",
       "<p>\n",
       "  If you're reading this message in the Jupyter Notebook or JupyterLab Notebook, it may mean\n",
       "  that the widgets JavaScript is still loading. If this message persists, it\n",
       "  likely means that the widgets JavaScript library is either not installed or\n",
       "  not enabled. See the <a href=\"https://ipywidgets.readthedocs.io/en/stable/user_install.html\">Jupyter\n",
       "  Widgets Documentation</a> for setup instructions.\n",
       "</p>\n",
       "<p>\n",
       "  If you're reading this message in another frontend (for example, a static\n",
       "  rendering on GitHub or <a href=\"https://nbviewer.jupyter.org/\">NBViewer</a>),\n",
       "  it may mean that your frontend doesn't currently support widgets.\n",
       "</p>\n"
      ],
      "text/plain": [
       "interactive(children=(Text(value='Hello World ', description='x'), Output()), _dom_classes=('widget-interact',))"
      ]
     },
     "metadata": {},
     "output_type": "display_data"
    }
   ],
   "source": [
    "from ipywidgets import interactive\n",
    "def myfunction(x):\n",
    "    return x\n",
    "w = interactive(myfunction, x= \"Hello World \");\n",
    "from IPython.display import display\n",
    "display(w)"
   ]
  },
  {
   "cell_type": "markdown",
   "metadata": {},
   "source": [
    "* Building complex widgets: http://nugrid.github.io/NuPyCEE/webinterface.html"
   ]
  },
  {
   "cell_type": "markdown",
   "metadata": {},
   "source": [
    "### Notebook Extensions\n",
    "* Community adds new extensions\n",
    "* Many extensions available but beware of compatibility"
   ]
  }
 ],
 "metadata": {
  "celltoolbar": "Slideshow",
  "kernelspec": {
   "display_name": "Python [conda env:py36]",
   "language": "python",
   "name": "conda-env-py36-py"
  },
  "language_info": {
   "codemirror_mode": {
    "name": "ipython",
    "version": 3
   },
   "file_extension": ".py",
   "mimetype": "text/x-python",
   "name": "python",
   "nbconvert_exporter": "python",
   "pygments_lexer": "ipython3",
   "version": "3.6.1"
  },
  "nbpresent": {
   "slides": {
    "4f5be389-e617-442a-81b1-3d26ae3e30e5": {
     "id": "4f5be389-e617-442a-81b1-3d26ae3e30e5",
     "prev": "9998f616-36a3-4ee1-8ebd-f196820444a6",
     "regions": {
      "4758b32a-5458-485f-8ef2-661c1052bb12": {
       "attrs": {
        "height": 0.47550771424677235,
        "width": 0.8,
        "x": 0.1,
        "y": 0.1
       },
       "content": {
        "cell": "184f26db-825c-4999-812d-a0a3093d940e",
        "part": "source"
       },
       "id": "4758b32a-5458-485f-8ef2-661c1052bb12"
      },
      "c4a2c4c4-f378-40c7-9bc7-c3fc7f4c3954": {
       "attrs": {
        "height": 0.3163288571792454,
        "width": 0.8006457679824669,
        "x": 0.1,
        "y": 0.5836711428207545
       },
       "id": "c4a2c4c4-f378-40c7-9bc7-c3fc7f4c3954"
      }
     }
    },
    "9998f616-36a3-4ee1-8ebd-f196820444a6": {
     "id": "9998f616-36a3-4ee1-8ebd-f196820444a6",
     "prev": null,
     "regions": {
      "3d299153-ea93-4413-9170-f8def072ad1d": {
       "attrs": {
        "height": 0.8487069900401905,
        "width": 0.5527772458199158,
        "x": 0.41402341692921435,
        "y": 0.050932076523258776
       },
       "content": {
        "cell": "db47c4ab-e0a1-45e3-8270-c624511e651a",
        "part": "whole"
       },
       "id": "3d299153-ea93-4413-9170-f8def072ad1d"
      },
      "487a6ae6-532c-42c1-9db8-99b444a854d3": {
       "attrs": {
        "height": 0.5687999131673516,
        "width": 0.26717360602593654,
        "x": 0.1,
        "y": 0.3312000868326485
       },
       "content": {
        "cell": "08f3d8c6-0c0a-42d9-b1fb-33b8e8188bf1",
        "part": "source"
       },
       "id": "487a6ae6-532c-42c1-9db8-99b444a854d3"
      },
      "7abbf79d-2005-4646-81a3-75f3f67f8291": {
       "attrs": {
        "height": 0.0994406414916034,
        "width": 0.29495128533264126,
        "x": 0.09494951285332644,
        "y": 0.03041550186090635
       },
       "content": {
        "cell": "cb56ab0c-8f1d-4826-bce5-3c1690a9848a",
        "part": "source"
       },
       "id": "7abbf79d-2005-4646-81a3-75f3f67f8291"
      },
      "d531334b-1512-4e3b-9922-b62220bffd2d": {
       "attrs": {
        "height": 0.10415512992418947,
        "width": 0.2974765289059781,
        "x": 0.09242426927998965,
        "y": 0.14713788859832216
       },
       "content": {
        "cell": "9137455d-c99d-4bfc-a84d-af6f8324c8d2",
        "part": "source"
       },
       "id": "d531334b-1512-4e3b-9922-b62220bffd2d"
      }
     },
     "theme": null
    },
    "d5bef136-7301-4367-841b-3ff5a7144829": {
     "id": "d5bef136-7301-4367-841b-3ff5a7144829",
     "prev": "4f5be389-e617-442a-81b1-3d26ae3e30e5",
     "regions": {
      "5e4cf40e-40ac-483c-aecd-8e9abca344ae": {
       "attrs": {
        "height": 0.47550771424677235,
        "width": 0.8,
        "x": 0.1,
        "y": 0.1
       },
       "content": {
        "cell": "142c55e4-630a-4645-a53d-c5d44ce851a7",
        "part": "source"
       },
       "id": "5e4cf40e-40ac-483c-aecd-8e9abca344ae"
      },
      "fadee0ca-f2ea-4c2c-863a-370f28522cf8": {
       "attrs": {
        "height": 0.3163288571792454,
        "width": 0.8006457679824669,
        "x": 0.1,
        "y": 0.5836711428207545
       },
       "content": null,
       "id": "fadee0ca-f2ea-4c2c-863a-370f28522cf8"
      }
     }
    }
   },
   "themes": {
    "default": "d517e9c5-1a3f-4571-93c1-7bc4285a0365",
    "theme": {}
   }
  },
  "toc": {
   "colors": {
    "hover_highlight": "#DAA520",
    "navigate_num": "#000000",
    "navigate_text": "#333333",
    "running_highlight": "#FF0000",
    "selected_highlight": "#FFD700",
    "sidebar_border": "#EEEEEE",
    "wrapper_background": "#FFFFFF"
   },
   "moveMenuLeft": true,
   "nav_menu": {
    "height": "121px",
    "width": "252px"
   },
   "navigate_menu": true,
   "number_sections": true,
   "sideBar": true,
   "threshold": 4,
   "toc_cell": true,
   "toc_section_display": "block",
   "toc_window_display": false,
   "widenNotebook": false
  }
 },
 "nbformat": 4,
 "nbformat_minor": 2
}
